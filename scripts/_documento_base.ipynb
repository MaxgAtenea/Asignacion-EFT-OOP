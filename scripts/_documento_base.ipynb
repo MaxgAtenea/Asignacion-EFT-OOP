{
 "cells": [
  {
   "cell_type": "code",
   "execution_count": 1,
   "id": "cf0fe482-8889-4640-b6bc-8480f3f68f04",
   "metadata": {},
   "outputs": [],
   "source": [
    "# Importaciones estándar\n",
    "import os\n",
    "import socket\n",
    "import random\n",
    "from itertools import islice\n",
    "\n",
    "# Manejo de datos\n",
    "import pandas as pd\n",
    "import numpy as np\n",
    "\n",
    "# Utilidades para limpieza de texto\n",
    "import unicodedata\n",
    "from unidecode import unidecode\n",
    "\n",
    "# Visualización\n",
    "import matplotlib.pyplot as plt\n",
    "from matplotlib.ticker import FuncFormatter\n",
    "import seaborn as sns\n",
    "\n",
    "# Procesamiento y estadísticas\n",
    "from tqdm import tqdm\n",
    "from scipy.stats import boxcox\n",
    "from sklearn.preprocessing import MinMaxScaler\n",
    "\n",
    "#constantes\n",
    "import constants\n",
    "from constants import columna_valor_programa\n",
    "from constants import columna_cupos_maximos\n",
    "from constants import MINIMO_CUPOS_CERRADOS_SEDE"
   ]
  },
  {
   "cell_type": "markdown",
   "id": "ee70101e-94c9-4ea6-a69e-e9d60dc6693c",
   "metadata": {},
   "source": [
    "# NO EDITAR - NOTEBOOK SOLO PARA LECTURA"
   ]
  },
  {
   "cell_type": "markdown",
   "id": "028b9e58-72f5-460f-9702-f4cbd4e73055",
   "metadata": {},
   "source": [
    "El propósito de este documento es servir como referencia para definir las clases"
   ]
  },
  {
   "cell_type": "markdown",
   "id": "9c9e0fa5-a582-45e3-8852-5120eb0d90cd",
   "metadata": {},
   "source": [
    "----"
   ]
  },
  {
   "cell_type": "code",
   "execution_count": 2,
   "id": "5ac52de4-c026-4e74-b0b1-27f5b561fa0e",
   "metadata": {},
   "outputs": [
    {
     "data": {
      "text/plain": [
       "'VALOR TOTAL DEL PROGRAMA INDEXADO'"
      ]
     },
     "execution_count": 2,
     "metadata": {},
     "output_type": "execute_result"
    }
   ],
   "source": [
    "#Valor total del programa indexado para realizar la asignación de cupos\n",
    "columna_valor_programa"
   ]
  },
  {
   "cell_type": "markdown",
   "id": "bc22987f-89d1-4905-a4f2-c7785a3ef98b",
   "metadata": {},
   "source": [
    "-----"
   ]
  },
  {
   "cell_type": "code",
   "execution_count": 3,
   "id": "50b2b6d0-ec87-488a-b1fa-e77e84a17897",
   "metadata": {},
   "outputs": [],
   "source": [
    "#pd.set_option('display.max_columns', None)\n",
    "#pd.set_option('display.max_colwidth', None)\n",
    "#pd.set_option('display.max_rows', None)\n",
    "\n",
    "pd.set_option('display.float_format', '{:,.2f}'.format)"
   ]
  },
  {
   "cell_type": "code",
   "execution_count": 4,
   "id": "95b2d08a-2556-4ee5-85aa-4d453bf581f5",
   "metadata": {
    "jupyter": {
     "source_hidden": true
    }
   },
   "outputs": [
    {
     "data": {
      "text/plain": [
       "'alejandro-lenovo'"
      ]
     },
     "execution_count": 4,
     "metadata": {},
     "output_type": "execute_result"
    }
   ],
   "source": [
    "# Obtener el nombre del host\n",
    "hostname = socket.gethostname()\n",
    "\n",
    "hostname"
   ]
  },
  {
   "cell_type": "code",
   "execution_count": 5,
   "id": "3ba37a58-0c77-4f61-a75e-a7900db8af9d",
   "metadata": {
    "jupyter": {
     "source_hidden": true
    }
   },
   "outputs": [
    {
     "name": "stdout",
     "output_type": "stream",
     "text": [
      "Nombre de host no reconocido. Configura las rutas apropiadas para este dispositivo.\n",
      "Directorio actual: /home/alejandro/Documentos/ATENEA/Despacho/Asignacion EFT\n"
     ]
    }
   ],
   "source": [
    "# Obtener el nombre del host\n",
    "hostname = socket.gethostname()\n",
    "\n",
    "# Definir las rutas para cada computadora\n",
    "path_pc1 = 'D:/OneDrive - Agencia Distrital para la Educación Superior, la Ciencia y la Tecnología - Atenea/Despacho/Investigaciones'\n",
    "path_pc2 = 'C:/Users/JuliánNaranjo/OneDrive - Agencia Distrital para la Educación Superior, la Ciencia y la Tecnología - Atenea/2025 SAIGC/Índice ETDH'\n",
    "path_pc3 = 'C:/Users/JULIA/OneDrive - Agencia Distrital para la Educación Superior, la Ciencia y la Tecnología - Atenea/Despacho/Investigaciones'\n",
    "\n",
    "# Cambiar el directorio según el nombre del host\n",
    "if hostname == 'DESKTOP-AEUL37C':\n",
    "    os.chdir(path_pc1)\n",
    "elif hostname == 'SGAINF-CND8085QVH-P26':\n",
    "    os.chdir(path_pc2)\n",
    "elif hostname == 'MSI':\n",
    "    os.chdir(path_pc3)\n",
    "else:\n",
    "    print(\"Nombre de host no reconocido. Configura las rutas apropiadas para este dispositivo.\")\n",
    "\n",
    "# Imprime el directorio actual para verificar\n",
    "print(\"Directorio actual:\", os.getcwd())"
   ]
  },
  {
   "cell_type": "markdown",
   "id": "b41b5d40-f24a-4a4a-811a-d07373dda15f",
   "metadata": {},
   "source": [
    "### Funciones"
   ]
  },
  {
   "cell_type": "code",
   "execution_count": 6,
   "id": "ac064865-6628-4bf2-9516-35aab5fb9750",
   "metadata": {},
   "outputs": [],
   "source": [
    "# Aplicar reemplazo seguro de los cno e ipo de los programas nuevos\n",
    "def reemplazar_codigo(row):\n",
    "    programa = row['nombre_programa']\n",
    "    if programa in constants.programa_info:\n",
    "        return pd.Series(constants.programa_info[programa])\n",
    "    return pd.Series([row['cod_CNO'], row['IPO']])\n",
    "    "
   ]
  },
  {
   "cell_type": "code",
   "execution_count": 7,
   "id": "3c006c61-8d67-477b-8626-17299511dc43",
   "metadata": {},
   "outputs": [],
   "source": [
    "def filtrar_ocupaciones_potenciales(data, ruta='antiguos'):\n",
    "    '''\n",
    "    Identifica las ocupaciones donde haya al menos un oferente con un valor no nulo\n",
    "    en la columna 'ISOEFT_4d' (para ruta='antiguos') o en 'Puntaje (nuevos y cerrados)' (para ruta='nuevos').\n",
    "\n",
    "    Un oferente corresponde a una fila del DataFrame. Una ocupación es considerada válida\n",
    "    si al menos un oferente tiene un valor distinto de NaN en la columna correspondiente según el tipo de ruta.\n",
    "\n",
    "    Parámetros:\n",
    "    -----------\n",
    "    data : pandas.DataFrame\n",
    "        DataFrame que debe contener las columnas:\n",
    "        - 'Ocupacion'\n",
    "        - 'ISOEFT_4d' si ruta = 'antiguos'\n",
    "        - 'Puntaje (nuevos y cerrados)' si ruta = 'nuevos'\n",
    "    \n",
    "    ruta : str, opcional (por defecto = 'antiguos')\n",
    "        Indica si se debe usar el criterio de 'antiguos' o 'nuevos' para la validación.\n",
    "\n",
    "    Retorna:\n",
    "    --------\n",
    "    pandas.DataFrame\n",
    "        Subconjunto del DataFrame original que solo incluye las ocupaciones válidas.\n",
    "\n",
    "    Errores:\n",
    "    --------\n",
    "    ValueError:\n",
    "        Si el valor de 'ruta' no es 'antiguos' ni 'nuevos'.\n",
    "    KeyError:\n",
    "        Si faltan las columnas necesarias en el DataFrame.\n",
    "    '''\n",
    "    if ruta == 'antiguos':\n",
    "        columna_valor = 'ISOEFT_4d'\n",
    "    elif ruta == 'nuevos':\n",
    "        columna_valor = 'Puntaje (nuevos y cerrados)'\n",
    "    else:\n",
    "        raise ValueError(\"El parámetro 'ruta' debe ser 'antiguos' o 'nuevos'.\")\n",
    "\n",
    "    # Validar que las columnas necesarias existen\n",
    "    if columna_valor not in data.columns or 'Ocupacion' not in data.columns:\n",
    "        raise KeyError(f\"El DataFrame debe contener las columnas 'Ocupacion' y '{columna_valor}'.\")\n",
    "\n",
    "    # Filtrar ocupaciones válidas\n",
    "    ocupaciones_validas = data.loc[data[columna_valor].notna(), 'Ocupacion'].unique()\n",
    "    data_filtrada = data[data['Ocupacion'].isin(ocupaciones_validas)].copy()\n",
    "\n",
    "    return data_filtrada\n"
   ]
  },
  {
   "cell_type": "code",
   "execution_count": 31,
   "id": "dce05a49-7a6d-466d-8858-0fce788535b1",
   "metadata": {},
   "outputs": [],
   "source": [
    "def calcular_ipo_ponderado(data, alfa=1, ponderar = True ):\n",
    "    \"\"\"\n",
    "    Calcula el IPO ponderado a partir del número de cupos a ofertar y el índice IPO elevado a una potencia.\n",
    "\n",
    "    Parámetros:\n",
    "    -----------\n",
    "    data : pandas.DataFrame\n",
    "        DataFrame que debe contener las columnas 'numero_cupos_ofertar' y 'IPO'.\n",
    "    alfa : float, opcional (por defecto=1.5)\n",
    "        Exponente aplicado al valor de IPO para ponderar su influencia. \n",
    "        Debe ser un número mayor a 1.\n",
    "    ponderar :  Boolean, opcional (por defecto = True)\n",
    "        Distingue si se requiere ponderar por el numero de cupos a ofertar\n",
    "    \"\"\"\n",
    "    \n",
    "    # Validación del parámetro alfa\n",
    "    if not isinstance(alfa, (int, float)):\n",
    "        raise TypeError(\"El parámetro 'alfa' debe ser un número.\")\n",
    "    if alfa < 1:\n",
    "        raise ValueError(\"El parámetro 'alfa' debe ser mayor o igual a 1.\")\n",
    "    \n",
    "    # Cálculo del IPO ponderado\n",
    "    Antiguos = data.copy()\n",
    "\n",
    "    if ponderar:\n",
    "        Antiguos['ipo_ponderado'] = Antiguos['numero_cupos_ofertar'] * (Antiguos['IPO'] ** alfa)\n",
    "    else:\n",
    "        alfa = 1\n",
    "        beta = 0\n",
    "        Antiguos['ipo_ponderado'] = (Antiguos['numero_cupos_ofertar']**beta) * (Antiguos['IPO'] ** alfa)\n",
    "        \n",
    "    \n",
    "    return Antiguos\n"
   ]
  },
  {
   "cell_type": "code",
   "execution_count": 9,
   "id": "9101bc5f-2890-4bca-8b45-f1474ecec05b",
   "metadata": {},
   "outputs": [],
   "source": [
    "def calcular_recursos_por_cno(df, total_recursos, group = ['cod_CNO','Ocupacion']):\n",
    "    \"\"\"\n",
    "    Calcula los recursos por cno segun la formula del paso 1 de la ruta de antiguos y nuevos. \n",
    "    \n",
    "    Parámetros:\n",
    "        df (pd.DataFrame): DataFrame con columnas 'cod_CNO', 'Ocupacion', 'ipo_ponderado', 'numero_cupos_ofertar', 'IPO'.\n",
    "        total_recursos (float): Total de recursos disponibles para distribuir.\n",
    "\n",
    "    Retorna:\n",
    "        pd.DataFrame: DataFrame con las métricas agrupadas y columna 'recursosxcno' calculada.\n",
    "    \"\"\"\n",
    "    # 1. Calcular la suma total de ipo_ponderado\n",
    "    IO_total = df['ipo_ponderado'].sum()\n",
    "\n",
    "    # 2. Agrupar por cod_CNO y Ocupacion\n",
    "    IO_por_CNO = (\n",
    "        df\n",
    "        .groupby(group)\n",
    "        .agg(\n",
    "            ipo_ponderado=('ipo_ponderado', 'sum'),\n",
    "            CUPOS=('numero_cupos_ofertar', 'sum'),\n",
    "            IPO=('IPO', 'sum'),\n",
    "            n_programas=('ipo_ponderado', 'count')\n",
    "        )\n",
    "        .reset_index()\n",
    "    )\n",
    "\n",
    "    # 3. Calcular participación\n",
    "    IO_por_CNO['IO_part'] = IO_por_CNO['ipo_ponderado'] / IO_total\n",
    "\n",
    "    # 4. Asignar recursos\n",
    "    IO_por_CNO['recursosxcno'] = IO_por_CNO['IO_part'] * total_recursos\n",
    "\n",
    "    IO_por_CNO = IO_por_CNO[ group + ['recursosxcno','n_programas']]\n",
    "\n",
    "    return IO_por_CNO\n"
   ]
  },
  {
   "cell_type": "code",
   "execution_count": 10,
   "id": "640835ad-c85f-4173-a006-9259a7f4aab1",
   "metadata": {},
   "outputs": [],
   "source": [
    "def ordenar_ocupaciones_por_isoeft(df):\n",
    "    \"\"\"\n",
    "    Ordena un DataFrame por ['cod_CNO', 'Ocupacion', 'IPO', 'ISOEFT_4d'],\n",
    "    asegurando que las filas con NaN en 'ISOEFT_4d' queden al final del DataFrame completo.\n",
    "\n",
    "    Parámetros:\n",
    "        df (pd.DataFrame): El DataFrame a ordenar.\n",
    "\n",
    "    Retorna:\n",
    "        pd.DataFrame: DataFrame ordenado con NaNs al final.\n",
    "    \"\"\"\n",
    "    # Separar por presencia de NaN en ISOEFT_4d\n",
    "    sin_nan = df[df['ISOEFT_4d'].notna()]\n",
    "    con_nan = df[df['ISOEFT_4d'].isna()]\n",
    "\n",
    "    #Columnas para ordenar\n",
    "    columnas = [\n",
    "        'IPO',\n",
    "        'cod_CNO',\n",
    "        'Ocupacion',\n",
    "        'ISOEFT_4d',\n",
    "        columna_valor_programa,\n",
    "        \"numero_cupos_ofertar\",\n",
    "        \"duracion_horas_programa\"\n",
    "    ]\n",
    "\n",
    "    orden = [\n",
    "        False,\n",
    "        True,\n",
    "        True,\n",
    "        False,\n",
    "        True,\n",
    "        False,\n",
    "        True\n",
    "    ]\n",
    "    \n",
    "    # Ordenar las filas válidas\n",
    "    sin_nan = sin_nan.sort_values(\n",
    "        columnas, \n",
    "        ascending= orden\n",
    "    )\n",
    "\n",
    "    # Concatenar y devolver\n",
    "    return pd.concat([sin_nan, con_nan], ignore_index=True)\n"
   ]
  },
  {
   "cell_type": "code",
   "execution_count": 11,
   "id": "7f0f19ff-fe23-4d5e-a3d9-c6e4671552eb",
   "metadata": {},
   "outputs": [],
   "source": [
    "def ordenar_sedes_programas(df, usar_cod_cno=True):\n",
    "    \"\"\"\n",
    "    Ordena los programas dentro del DataFrame según criterios establecidos.\n",
    "    Si usar_cod_cno es True, cod_CNO se usará como primer criterio de orden.\n",
    "\n",
    "    Criterios de orden:\n",
    "    1. (Opcional) cod_CNO\n",
    "    2. Mayor puntaje\n",
    "    3. Mayor número de cupos ofertados\n",
    "    4. Mayor meta de vinculación\n",
    "    5. Menor costo\n",
    "    6. Menor duración\n",
    "\n",
    "    Parámetros:\n",
    "        df (pd.DataFrame): DataFrame con columnas relevantes.\n",
    "        usar_cod_cno (bool): Si True, incluye cod_CNO como primer criterio.\n",
    "\n",
    "    Retorna:\n",
    "        pd.DataFrame: DataFrame ordenado según los criterios establecidos.\n",
    "    \"\"\"\n",
    "    columnas = []\n",
    "    orden = []\n",
    "\n",
    "    if usar_cod_cno:\n",
    "        columnas.append('cod_CNO')\n",
    "        orden.append(True)\n",
    "\n",
    "    columnas += [\n",
    "        'Puntaje (nuevos y cerrados)',\n",
    "        'numero_cupos_ofertar',\n",
    "        'Meta de vinculación',\n",
    "        columna_valor_programa,\n",
    "        'duracion_horas_programa'\n",
    "    ]\n",
    "\n",
    "    orden += [False, False, False, True, True]\n",
    "\n",
    "    df_ordenado = df.sort_values(by=columnas, ascending=orden).reset_index(drop=True)\n",
    "    return df_ordenado\n",
    "\n"
   ]
  },
  {
   "cell_type": "code",
   "execution_count": 12,
   "id": "371222b8-c6b6-4a0c-88d7-7d1f77b292e8",
   "metadata": {},
   "outputs": [],
   "source": [
    "def asignar_recursos_y_cupos_viejos(data):\n",
    "    \"\"\"\n",
    "    Asigna cupos y recursos por ocupación según los lineamientos de la Ruta Antigua, paso 2\n",
    "\n",
    "    Retorna un resumen por ocupación con cupos y recursos asignados, y los saldos no utilizados.\n",
    "    \"\"\"\n",
    "   \n",
    "    data = data.copy()\n",
    "    # Paso 1: Crear nueva columna para asignación\n",
    "    data['cupos_asignados_2E'] = 0\n",
    "\n",
    "    # Paso 2: Iterar por grupo de ocupación para asignar los recursos disponibles\n",
    "    for (cod_cno, Ocupacion), grupo in data.groupby(['cod_CNO', 'Ocupacion']):\n",
    "        recurso_por_dispersar = grupo['recursosxcno'].iloc[0]\n",
    "        saldo = recurso_por_dispersar\n",
    "        indices = grupo.index\n",
    "\n",
    "        for i in indices:\n",
    "            costo_unitario = data.loc[i, columna_valor_programa]\n",
    "            cupos_disp = data.loc[i, 'numero_cupos_ofertar']\n",
    "\n",
    "            if pd.isna(costo_unitario) or costo_unitario == 0:\n",
    "                continue\n",
    "\n",
    "            recurso_necesario = cupos_disp * costo_unitario\n",
    "\n",
    "            if saldo >= recurso_necesario:\n",
    "                data.loc[i, 'cupos_asignados_2E'] = cupos_disp\n",
    "                saldo -= recurso_necesario\n",
    "            else:\n",
    "                # Ver si se puede financiar al menos un cupo\n",
    "                cupos_asignables = saldo // costo_unitario\n",
    "                data.loc[i, 'cupos_asignados_2E'] = cupos_asignables\n",
    "                saldo -= cupos_asignables * costo_unitario\n",
    "                break\n",
    "\n",
    "    # Paso 3: Calcular recursos efectivamente asignados por programa\n",
    "    data['recurso_asignado_2E'] = data['cupos_asignados_2E'] * data[columna_valor_programa]\n",
    "\n",
    "    # Paso 4: Agrupar para obtener resumen de asignaciones por ocupacion\n",
    "    asignacion_por_ocupacion_ant = data.groupby(['cod_CNO', 'Ocupacion']).agg(\n",
    "        recurso_asignado_2E=('recurso_asignado_2E', 'sum'),\n",
    "        cupos_asignados_2E=('cupos_asignados_2E', 'sum')\n",
    "    ).reset_index()\n",
    "\n",
    "    # Paso 5: Obtener recursos originales y número de cupos ofertados por las instituciones\n",
    "    recursos_por_ocupacion = data.groupby(['cod_CNO', 'Ocupacion']).agg(\n",
    "        recursosxcno=('recursosxcno', 'first'),\n",
    "        numero_cupos_ofertar=('numero_cupos_ofertar', 'sum')\n",
    "    ).reset_index()\n",
    "\n",
    "    # Paso 6: Unir ambas tablas\n",
    "    asignacion_por_ocupacion_ant = asignacion_por_ocupacion_ant.merge(\n",
    "        recursos_por_ocupacion, on=['cod_CNO', 'Ocupacion']\n",
    "    )\n",
    "\n",
    "    # Paso 7: Calcular saldos no asignados\n",
    "    asignacion_por_ocupacion_ant['Saldo_No_Asignado_2E'] = (\n",
    "        asignacion_por_ocupacion_ant['recursosxcno'] - asignacion_por_ocupacion_ant['recurso_asignado_2E']\n",
    "    )\n",
    "\n",
    "    asignacion_por_ocupacion_ant['cupos_no_asignados_2E'] = (\n",
    "        asignacion_por_ocupacion_ant['numero_cupos_ofertar'] - asignacion_por_ocupacion_ant['cupos_asignados_2E']\n",
    "    )\n",
    "\n",
    "    return data, asignacion_por_ocupacion_ant\n"
   ]
  },
  {
   "cell_type": "code",
   "execution_count": 13,
   "id": "835efdd6-8d8d-4523-922b-0d80c9e16ab6",
   "metadata": {},
   "outputs": [],
   "source": [
    "def asignar_tercera_etapa(Antiguos, asignacion_por_ocupacion_ant):\n",
    "    \"\"\"\n",
    "    Asigna recursos sobrantes de la segunda etapa a programas priorizados en una tercera etapa,\n",
    "    usando una bolsa común. Actualiza el DataFrame original con asignaciones adicionales.\n",
    "    \"\"\"\n",
    "    saldo_comun_3E = asignacion_por_ocupacion_ant['Saldo_No_Asignado_2E'].sum()\n",
    "    \n",
    "    Antiguos = Antiguos.copy()\n",
    "    \n",
    "    Antiguos['cupos_asignados_3E'] = 0\n",
    "    Antiguos['recurso_asignado_3E'] = 0\n",
    "\n",
    "    Antiguos = ordenar_ocupaciones_por_isoeft(Antiguos)\n",
    "\n",
    "    for idx, row in Antiguos.iterrows():\n",
    "        costo = row[columna_valor_programa]\n",
    "        cupos = row['numero_cupos_ofertar']\n",
    "        if pd.isna(costo) or costo <= 0 or pd.isna(cupos) or cupos <= 0:\n",
    "            continue\n",
    "\n",
    "        recurso_necesario = costo * cupos\n",
    "        \n",
    "        if saldo_comun_3E >= recurso_necesario:\n",
    "            Antiguos.at[idx, 'cupos_asignados_3E'] = cupos\n",
    "            Antiguos.at[idx, 'recurso_asignado_3E'] = recurso_necesario\n",
    "            saldo_comun_3E -= recurso_necesario\n",
    "        else:\n",
    "            cupos_posibles = saldo_comun_3E // costo\n",
    "            if cupos_posibles >= 1:\n",
    "                recurso_asignado = cupos_posibles * costo\n",
    "                Antiguos.at[idx, 'cupos_asignados_3E'] = cupos_posibles\n",
    "                Antiguos.at[idx, 'recurso_asignado_3E'] = recurso_asignado\n",
    "                saldo_comun_3E -= recurso_asignado\n",
    "            else:\n",
    "                break\n",
    "\n",
    "    Antiguos['Total_Cupos_Asignados'] = Antiguos['cupos_asignados_2E'] + Antiguos['cupos_asignados_3E']\n",
    "    Antiguos['Total_Recurso_Asignado'] = Antiguos['recurso_asignado_2E'] + Antiguos['recurso_asignado_3E']\n",
    "    Antiguos['Saldo_Remanente_3E'] = saldo_comun_3E\n",
    "    return Antiguos"
   ]
  },
  {
   "cell_type": "code",
   "execution_count": 14,
   "id": "eff979e7-ef49-416a-9461-577eb618e3b8",
   "metadata": {},
   "outputs": [],
   "source": [
    "def asignar_recursos_y_cupos_nuevos(data):\n",
    "    \n",
    "    data = data.copy()\n",
    "    \n",
    "    # Inicializar columna para cupos asignados\n",
    "    data['cupos_asignados_2E'] = 0\n",
    "    \n",
    "    # Asignación iterativa por cod_CNO\n",
    "    for cod_cno, grupo in data.groupby('cod_CNO'):\n",
    "        \n",
    "        recurso_total = grupo['recursosxcno'].iloc[0] #mismo recurso para cada ocupacion\n",
    "        saldo = recurso_total\n",
    "        indices = grupo.index\n",
    "    \n",
    "        for i in indices:\n",
    "            costo_unitario = data.loc[i, columna_valor_programa]\n",
    "            cupos_disp = data.loc[i, 'numero_cupos_ofertar']\n",
    "            if pd.isna(costo_unitario) or costo_unitario == 0:\n",
    "                continue\n",
    "    \n",
    "            recurso_necesario = cupos_disp * costo_unitario\n",
    "    \n",
    "            if saldo >= recurso_necesario:\n",
    "                data.loc[i, 'cupos_asignados_2E'] = cupos_disp\n",
    "                saldo -= recurso_necesario\n",
    "            else:\n",
    "                cupos_asignables = saldo // costo_unitario\n",
    "                data.loc[i, 'cupos_asignados_2E'] = cupos_asignables\n",
    "                saldo -= cupos_asignables * costo_unitario\n",
    "                break\n",
    "    \n",
    "    # Paso 5: Calcular recursos asignados\n",
    "    data['recurso_asignado_2E'] = data['cupos_asignados_2E'] * data[columna_valor_programa]\n",
    "    \n",
    "    # Paso 6: Agrupar para obtener resumen de asignaciones por ocupacion\n",
    "    asignacion_por_ocupacion_nuevos = data.groupby('cod_CNO').agg(\n",
    "        recurso_asignado_2E=('recurso_asignado_2E', 'sum'),\n",
    "        cupos_asignados_2E=('cupos_asignados_2E', 'sum')\n",
    "    ).reset_index()\n",
    "    \n",
    "    \n",
    "    # Paso 5: Obtener recursos originales y número de cupos ofertados por las instituciones\n",
    "    recursos_por_ocupacion = data.groupby('cod_CNO').agg(\n",
    "        recursosxcno=('recursosxcno', 'first'),\n",
    "        numero_cupos_ofertar=('numero_cupos_ofertar', 'sum')\n",
    "    ).reset_index()\n",
    "    \n",
    "    \n",
    "    # Paso 7: Agregar recursos estimados y calcular saldo no asignado\n",
    "    asignacion_por_ocupacion_nuevos = asignacion_por_ocupacion_nuevos.merge(\n",
    "        recursos_por_ocupacion, on='cod_CNO'\n",
    "    )\n",
    "    \n",
    "    asignacion_por_ocupacion_nuevos['Saldo_No_Asignado_2E'] = (\n",
    "        asignacion_por_ocupacion_nuevos['recursosxcno'] - asignacion_por_ocupacion_nuevos['recurso_asignado_2E']\n",
    "    )\n",
    "    \n",
    "    asignacion_por_ocupacion_nuevos['cupos_no_asignados_2E'] = (\n",
    "        asignacion_por_ocupacion_nuevos['numero_cupos_ofertar'] - asignacion_por_ocupacion_nuevos['cupos_asignados_2E']\n",
    "    )\n",
    "\n",
    "    return data, asignacion_por_ocupacion_nuevos"
   ]
  },
  {
   "cell_type": "code",
   "execution_count": 15,
   "id": "d275aa77-e0ec-4974-9494-13a3bde97e45",
   "metadata": {},
   "outputs": [],
   "source": [
    "def asignar_recursos_grupos_cerrados(Grupos_Cerrados, total_recursos_cerrados):\n",
    "    \"\"\"\n",
    "    Asigna recursos a programas de grupos cerrados hasta agotar el saldo total disponible.\n",
    "\n",
    "    Parámetros:\n",
    "        Grupos_Cerrados (pd.DataFrame): DataFrame con la información de los programas.\n",
    "        total_recursos_cerrados (float): Monto total disponible para asignar.\n",
    "\n",
    "    Retorna:\n",
    "        pd.DataFrame: DataFrame con columnas de cupos y recursos asignados, y el saldo restante.\n",
    "    \"\"\"\n",
    "    Grupos_Cerrados = Grupos_Cerrados.copy()\n",
    "    \n",
    "    Grupos_Cerrados['cupos_asignados_2E'] = 0  \n",
    "    Grupos_Cerrados['recurso_asignado_2E'] = 0.0\n",
    "    Grupos_Cerrados['saldo_total_remanente'] = 0.0\n",
    "\n",
    "\n",
    "    saldo_total = total_recursos_cerrados\n",
    "\n",
    "    for idx, row in Grupos_Cerrados.iterrows():\n",
    "        costo = row[columna_valor_programa]\n",
    "        cupos = min(row['numero_cupos_ofertar'], row[columna_cupos_maximos])\n",
    "\n",
    "        if pd.isna(costo) or costo <= 0 or pd.isna(cupos) or cupos <= 0:\n",
    "            Grupos_Cerrados.at[idx, 'saldo_total_remanente'] = saldo_total\n",
    "            continue\n",
    "\n",
    "        recurso_necesario = costo * cupos\n",
    "\n",
    "        if saldo_total >= recurso_necesario:\n",
    "            Grupos_Cerrados.at[idx, 'cupos_asignados_2E'] = cupos\n",
    "            Grupos_Cerrados.at[idx, 'recurso_asignado_2E'] = recurso_necesario\n",
    "            saldo_total -= recurso_necesario\n",
    "        else:\n",
    "            \n",
    "            cupos_posibles = saldo_total // costo\n",
    "            recurso_asignado = cupos_posibles * costo\n",
    "            \n",
    "            Grupos_Cerrados.at[idx, 'cupos_asignados_2E'] = cupos_posibles\n",
    "            Grupos_Cerrados.at[idx, 'recurso_asignado_2E'] = recurso_asignado\n",
    "            saldo_total -= recurso_asignado\n",
    "\n",
    "        Grupos_Cerrados.at[idx, 'saldo_total_remanente'] = saldo_total\n",
    "\n",
    "        if saldo_total <= 0:\n",
    "            break\n",
    "\n",
    "    return Grupos_Cerrados, saldo_total"
   ]
  },
  {
   "cell_type": "code",
   "execution_count": 16,
   "id": "edec248c-c835-49a9-86ea-9f17c614b7ed",
   "metadata": {},
   "outputs": [],
   "source": [
    "def asignar_recursos_hasta_validacion(Grupos_Cerrados, recursos_por_dispersar, MINIMO_CUPOS_CERRADOS_SEDE=50):\n",
    "    \"\"\"\n",
    "    Ejecuta la asignación de recursos, eliminando iterativamente instituciones que no alcanzan el mínimo de cupos.\n",
    "\n",
    "    Retorna:\n",
    "        Grupos_Cerrados_final (pd.DataFrame)\n",
    "        instituciones_eliminadas (list[str])\n",
    "    \"\"\"\n",
    "    instituciones_eliminadas = [] #Aqui se guardaran las instituciones que no cumplieron con el minimo de 50 cupos\n",
    "    filas_eliminadas = []  # Aquí se guardarán las filas eliminadas para concatenar al final\n",
    "    continuar = True\n",
    "\n",
    "    saldo_remanente = recursos_por_dispersar\n",
    "\n",
    "    while continuar:\n",
    "        # Asignar recursos\n",
    "        Grupos_Cerrados, saldo_remanente = asignar_recursos_grupos_cerrados(Grupos_Cerrados, saldo_remanente)\n",
    "\n",
    "        # Identificar instituciones a eliminar\n",
    "        instituciones_a_eliminar = []\n",
    "\n",
    "        for institucion in Grupos_Cerrados['nombre_institucion'].unique():\n",
    "            df_inst = Grupos_Cerrados[Grupos_Cerrados['nombre_institucion'] == institucion]\n",
    "            \n",
    "            #evaluar la suma de los cupos asignados a la institucion\n",
    "            total_cupos = df_inst['cupos_asignados_2E'].sum()\n",
    "            #evaluar la suma dispersada a la institucion\n",
    "            recursos_disperados_inst = df_inst['recurso_asignado_2E'].sum()\n",
    "            \n",
    "            if 0 < total_cupos < MINIMO_CUPOS_CERRADOS_SEDE:\n",
    "                \n",
    "                instituciones_a_eliminar.append(institucion)\n",
    "                #reintregamos al saldolos recursos que se le habia dado a la institucion\n",
    "                saldo_remanente += recursos_disperados_inst\n",
    "\n",
    "        if instituciones_a_eliminar:\n",
    "            \n",
    "            # Seleccionar filas a eliminar\n",
    "            filas_a_eliminar = Grupos_Cerrados[Grupos_Cerrados['nombre_institucion'].isin(instituciones_a_eliminar)].copy()\n",
    "            \n",
    "            # Actualizar sus valores\n",
    "            filas_a_eliminar['cupos_asignados_2E'] = 0\n",
    "            filas_a_eliminar['recurso_asignado_2E'] = 0.0\n",
    "            filas_a_eliminar['saldo_total_remanente'] = saldo_remanente\n",
    "            \n",
    "            # Guardar filas actualizadas\n",
    "            filas_eliminadas.append(filas_a_eliminar)\n",
    "\n",
    "            # Añadir las instituciones a eliminar a la lista\n",
    "            instituciones_eliminadas.extend(instituciones_a_eliminar)\n",
    "            \n",
    "            # Eliminar las instituciones del DataFrame principal\n",
    "            Grupos_Cerrados = Grupos_Cerrados[\n",
    "                ~Grupos_Cerrados['nombre_institucion'].isin(instituciones_a_eliminar)\n",
    "            ].reset_index(drop=True)\n",
    "        else:\n",
    "            continuar = False\n",
    "\n",
    "    # Reagregar las filas eliminadas al final del DataFrame\n",
    "    if filas_eliminadas:\n",
    "        Grupos_Cerrados = pd.concat([Grupos_Cerrados] + filas_eliminadas, ignore_index=True)\n",
    "\n",
    "    return Grupos_Cerrados, instituciones_eliminadas\n"
   ]
  },
  {
   "cell_type": "code",
   "execution_count": 17,
   "id": "9ebe938b-1010-4aba-b90f-b6b73db679cc",
   "metadata": {},
   "outputs": [],
   "source": [
    "def reasignar_remanente(df_remanente, bolsa, columna_cupos= 'cupos_asignados_2E'):\n",
    "    \"\"\"\n",
    "    Reasigna recursos disponibles (remanente) a los cupos restantes de un DataFrame, \n",
    "    hasta agotar el saldo o completar los cupos pendientes.\n",
    "    \"\"\"\n",
    "    df_remanente = df_remanente.copy()\n",
    "    \n",
    "    #df_remanente['remanente_asignado'] = 0\n",
    "    \n",
    "    saldo_total = bolsa\n",
    "\n",
    "    for idx, row in df_remanente.iterrows():\n",
    "        cupos_restantes =  row['numero_cupos_ofertar'] - row[columna_cupos] \n",
    "        costo = row[columna_valor_programa]\n",
    "\n",
    "        if pd.isna(costo) or costo <= 0 or pd.isna(cupos_restantes) or cupos_restantes <= 0:\n",
    "            df_remanente.at[idx, 'saldo_total_remanente'] = saldo_total\n",
    "            continue\n",
    "\n",
    "        recurso_necesario = costo * cupos_restantes\n",
    "\n",
    "        if saldo_total >= recurso_necesario:\n",
    "            df_remanente.at[idx, 'cupos_asignados_remanente'] = cupos_restantes\n",
    "            df_remanente.at[idx, 'recurso_asignado_remanente'] = recurso_necesario\n",
    "            saldo_total -= recurso_necesario\n",
    "        else:\n",
    "            cupos_posibles = saldo_total // costo\n",
    "            recurso_asignado = cupos_posibles * costo\n",
    "\n",
    "            df_remanente.at[idx, 'cupos_asignados_remanente'] = cupos_posibles\n",
    "            df_remanente.at[idx, 'recurso_asignado_remanente'] = recurso_asignado\n",
    "            saldo_total -= recurso_asignado\n",
    "\n",
    "        df_remanente.at[idx, 'saldo_total_remanente'] = saldo_total\n",
    "\n",
    "        if saldo_total <= 0:\n",
    "            break\n",
    "\n",
    "    return df_remanente, saldo_total"
   ]
  },
  {
   "cell_type": "markdown",
   "id": "e9a112c5-f0ab-4500-a42e-355646366778",
   "metadata": {},
   "source": [
    "### Lectura de datos"
   ]
  },
  {
   "cell_type": "code",
   "execution_count": 18,
   "id": "cdbce447-47f8-4b3b-a853-94cf657d444a",
   "metadata": {},
   "outputs": [],
   "source": [
    "#Cargar los datos\n",
    "Programas_EFT_Oferta = pd.read_pickle(\"Asignacion de cupos/Base final - Oferta Activa.pkl\")\n",
    "Programas_EFT = pd.read_excel(\"Asignacion de cupos/Habilitados final 26052025.xlsx\")"
   ]
  },
  {
   "cell_type": "code",
   "execution_count": 19,
   "id": "92485668-4048-46f9-821e-54fe707d5d1a",
   "metadata": {},
   "outputs": [],
   "source": [
    "#Limpieza de los datos\n",
    "\n",
    "# Seleccionar las columnas de interes\n",
    "Programas_EFT_Oferta = Programas_EFT_Oferta[constants.columnas_programas_eft_oferta]\n",
    "\n",
    "#Renombrar algunas columnas\n",
    "Programas_EFT = Programas_EFT.rename(\n",
    "    columns= constants.nombre_columnas_mapping\n",
    ")\n",
    "\n",
    "#Cambiar el tipo de los datos\n",
    "Programas_EFT = Programas_EFT.astype(constants.tipo_columnas_mapping)\n",
    "Programas_EFT_Oferta = Programas_EFT_Oferta.astype(constants.tipo_columnas_mapping)"
   ]
  },
  {
   "cell_type": "code",
   "execution_count": 20,
   "id": "339faee0-7360-4480-9410-a87a3cb614cc",
   "metadata": {},
   "outputs": [],
   "source": [
    "# Unir Programas_EFT y Programas_EFT_Oferta\n",
    "Programas_EFT = Programas_EFT.merge(\n",
    "    Programas_EFT_Oferta,\n",
    "    how='left',\n",
    "    on=['CODIGO_PROGRAMA']\n",
    ")"
   ]
  },
  {
   "cell_type": "markdown",
   "id": "49357469-a888-47ac-8e69-005184a8dcc2",
   "metadata": {},
   "source": [
    "----"
   ]
  },
  {
   "cell_type": "markdown",
   "id": "ac93edd9-00eb-44e0-a27f-d066581b003f",
   "metadata": {},
   "source": [
    "### Descripcion de los datos"
   ]
  },
  {
   "cell_type": "code",
   "execution_count": 21,
   "id": "c7e85746-d013-4e3c-9641-59f460c8caaa",
   "metadata": {},
   "outputs": [
    {
     "name": "stdout",
     "output_type": "stream",
     "text": [
      "Registros que cruzaron: 39\n",
      "Registros que NO cruzaron: 6\n"
     ]
    }
   ],
   "source": [
    "#CNO: Clasificacion nancional de ocupaciones\n",
    "# Suponiendo que 'cod_CNO' proviene de Programas_EFT_Oferta y no está en Programas_EFT original\n",
    "cruzaron = Programas_EFT['cod_CNO'].notna().sum()\n",
    "no_cruzaron = Programas_EFT['cod_CNO'].isna().sum()\n",
    "\n",
    "print(f\"Registros que cruzaron: {cruzaron}\")\n",
    "print(f\"Registros que NO cruzaron: {no_cruzaron}\")"
   ]
  },
  {
   "cell_type": "code",
   "execution_count": 22,
   "id": "f5e081ee-3545-46cb-8bf7-7a910ca164a9",
   "metadata": {},
   "outputs": [
    {
     "name": "stdout",
     "output_type": "stream",
     "text": [
      "Numero de programas antiguos sin cno: 0\n"
     ]
    }
   ],
   "source": [
    "sin_cno_antiguos = Programas_EFT[\n",
    "    Programas_EFT['cod_CNO'].isna() &\n",
    "    (Programas_EFT['Ruta habilitada'] == \"Antiguos\")\n",
    "]\n",
    "\n",
    "print(f\"Numero de programas antiguos sin cno: {sin_cno_antiguos.shape[0]}\")"
   ]
  },
  {
   "cell_type": "code",
   "execution_count": 23,
   "id": "f61bfb8f-65b9-4afc-b2da-99737b4807c1",
   "metadata": {},
   "outputs": [
    {
     "data": {
      "text/plain": [
       "Ruta habilitada\n",
       "Antiguos           25\n",
       "Nuevos             10\n",
       "Grupos cerrados    10\n",
       "Name: count, dtype: int64"
      ]
     },
     "execution_count": 23,
     "metadata": {},
     "output_type": "execute_result"
    }
   ],
   "source": [
    "Programas_EFT['Ruta habilitada'].value_counts()"
   ]
  },
  {
   "cell_type": "code",
   "execution_count": 41,
   "id": "fe71597d-6d1d-46b6-b175-117e0edd590d",
   "metadata": {},
   "outputs": [],
   "source": [
    "ruta_labels = Programas_EFT['Ruta habilitada'].unique()\n",
    "\n",
    "# Crear un diccionario con un DataFrame por cada valor de ruta\n",
    "rutas_dict = {\n",
    "    ruta: Programas_EFT.loc[Programas_EFT['Ruta habilitada'] == ruta].copy()\n",
    "    for ruta in ruta_labels\n",
    "}\n",
    "\n",
    "# Ejemplos de acceso:\n",
    "Antiguos = rutas_dict.get(\"Antiguos\")\n",
    "Nuevos = rutas_dict.get(\"Nuevos\")\n",
    "No_Habilitado = rutas_dict.get(\"NO HABILITADO\")\n",
    "Grupos_Cerrados = rutas_dict.get(\"Grupos cerrados\")"
   ]
  },
  {
   "cell_type": "markdown",
   "id": "19af9047-8b43-49ac-9b03-cc11b9edb213",
   "metadata": {},
   "source": [
    "-----"
   ]
  },
  {
   "cell_type": "markdown",
   "id": "71611b34-5d3c-4b18-b1b6-c7529cb1b8fb",
   "metadata": {},
   "source": [
    "# Ruta: Antiguos"
   ]
  },
  {
   "cell_type": "markdown",
   "id": "795bb158-c4b8-44ce-ab8b-be4c60ac94c2",
   "metadata": {},
   "source": [
    "Pasos:\n",
    "1. PASO 1: Asignación por ocupación proporcional al IPO Ponderado\n",
    "2. PASO 2: Asignación de recursos en función del resultado de ISOEFT\n",
    "3. PASO 3: Bolsa común con recursos excedentes para completar recursos."
   ]
  },
  {
   "cell_type": "markdown",
   "id": "c68c88ba-b2bd-4a6e-aadf-21a8081022bf",
   "metadata": {},
   "source": [
    "Variación para la sección del IPO:\n",
    "\n",
    "**Bolsas por ocupacion** sin tener en cuenta la oferta de cupos, esto es que al menos **exista un oferente potencial** en **cada ocupación** para que se genere una bolsa (un oferente potencial implica que esté bien sea en el grupo de antiguos o nuevos, y **tenga segun sea el caso ISOEFT** o **el puntaje**)"
   ]
  },
  {
   "cell_type": "code",
   "execution_count": 42,
   "id": "dd8e81be-a52d-4e63-aa1b-67c5a654408a",
   "metadata": {},
   "outputs": [
    {
     "name": "stdout",
     "output_type": "stream",
     "text": [
      "Min: 0.4773236184370968\n"
     ]
    }
   ],
   "source": [
    "#Validación de que no existan ocupaciones con IPO menor al minimo (ie., 0.47)\n",
    "min_value = Antiguos['IPO'].min()\n",
    "print(\"Min:\", min_value)\n",
    "assert min_value >= 0.47, f\"Min value {min_value} is less than 0.47\""
   ]
  },
  {
   "cell_type": "markdown",
   "id": "8946bf1c-865a-426f-b478-d4500ab62f4a",
   "metadata": {},
   "source": [
    "### Paso 1: Asignación por ocupación proporcional al IPO Ponderado"
   ]
  },
  {
   "cell_type": "code",
   "execution_count": 43,
   "id": "fc2c4ed3-6efe-4587-9fef-0c37b60b3918",
   "metadata": {},
   "outputs": [],
   "source": [
    "assert Antiguos['IPO'].notna().all(), \"Existen NaNs in IPO\""
   ]
  },
  {
   "cell_type": "code",
   "execution_count": 44,
   "id": "be3118d1-0f06-4ad2-9a48-2c9a8ddf086d",
   "metadata": {},
   "outputs": [],
   "source": [
    "assert Antiguos['numero_cupos_ofertar'].notna().all(), \"Existen NaNs in 'numero_cupos_ofertar'\""
   ]
  },
  {
   "cell_type": "code",
   "execution_count": 45,
   "id": "70dca6f9-61d2-4600-acfc-0efad4ece85f",
   "metadata": {},
   "outputs": [],
   "source": [
    "# Calculo del IPO ponderado\n",
    "Antiguos = calcular_ipo_ponderado(Antiguos, alfa = 1)"
   ]
  },
  {
   "cell_type": "code",
   "execution_count": 46,
   "id": "eaf6b485-1c7f-46c5-8fac-0e122b64c934",
   "metadata": {},
   "outputs": [
    {
     "name": "stdout",
     "output_type": "stream",
     "text": [
      "Recursos totales para disperar en la ruta de Antiguos: 1,320,000,000\n"
     ]
    }
   ],
   "source": [
    "total_recursos_antiguos = constants.recursos_por_ruta['antiguos']\n",
    "print(f\"Recursos totales para disperar en la ruta de Antiguos: {total_recursos_antiguos:,.0f}\")"
   ]
  },
  {
   "cell_type": "code",
   "execution_count": 47,
   "id": "a4e61065-15a5-44af-aed3-c22f4893835a",
   "metadata": {},
   "outputs": [
    {
     "data": {
      "text/html": [
       "<div>\n",
       "<style scoped>\n",
       "    .dataframe tbody tr th:only-of-type {\n",
       "        vertical-align: middle;\n",
       "    }\n",
       "\n",
       "    .dataframe tbody tr th {\n",
       "        vertical-align: top;\n",
       "    }\n",
       "\n",
       "    .dataframe thead th {\n",
       "        text-align: right;\n",
       "    }\n",
       "</style>\n",
       "<table border=\"1\" class=\"dataframe\">\n",
       "  <thead>\n",
       "    <tr style=\"text-align: right;\">\n",
       "      <th></th>\n",
       "      <th>cod_CNO</th>\n",
       "      <th>Ocupacion</th>\n",
       "      <th>recursosxcno</th>\n",
       "      <th>n_programas</th>\n",
       "    </tr>\n",
       "  </thead>\n",
       "  <tbody>\n",
       "    <tr>\n",
       "      <th>0</th>\n",
       "      <td>1231</td>\n",
       "      <td>Asistentes contables</td>\n",
       "      <td>107,569,094.89</td>\n",
       "      <td>2</td>\n",
       "    </tr>\n",
       "    <tr>\n",
       "      <th>1</th>\n",
       "      <td>1345</td>\n",
       "      <td>Auxiliares administrativos en salud</td>\n",
       "      <td>111,126,632.02</td>\n",
       "      <td>2</td>\n",
       "    </tr>\n",
       "    <tr>\n",
       "      <th>2</th>\n",
       "      <td>2242</td>\n",
       "      <td>Técnicos en electrónica</td>\n",
       "      <td>45,308,756.34</td>\n",
       "      <td>1</td>\n",
       "    </tr>\n",
       "    <tr>\n",
       "      <th>3</th>\n",
       "      <td>2281</td>\n",
       "      <td>Técnicos en tecnologías de la información</td>\n",
       "      <td>61,535,606.34</td>\n",
       "      <td>1</td>\n",
       "    </tr>\n",
       "    <tr>\n",
       "      <th>4</th>\n",
       "      <td>3311</td>\n",
       "      <td>Auxiliares en enfermería</td>\n",
       "      <td>53,180,231.95</td>\n",
       "      <td>1</td>\n",
       "    </tr>\n",
       "  </tbody>\n",
       "</table>\n",
       "</div>"
      ],
      "text/plain": [
       "  cod_CNO                                  Ocupacion   recursosxcno  \\\n",
       "0    1231                       Asistentes contables 107,569,094.89   \n",
       "1    1345        Auxiliares administrativos en salud 111,126,632.02   \n",
       "2    2242                    Técnicos en electrónica  45,308,756.34   \n",
       "3    2281  Técnicos en tecnologías de la información  61,535,606.34   \n",
       "4    3311                   Auxiliares en enfermería  53,180,231.95   \n",
       "\n",
       "   n_programas  \n",
       "0            2  \n",
       "1            2  \n",
       "2            1  \n",
       "3            1  \n",
       "4            1  "
      ]
     },
     "execution_count": 47,
     "metadata": {},
     "output_type": "execute_result"
    }
   ],
   "source": [
    "IO_por_CNO = calcular_recursos_por_cno(Antiguos, total_recursos_antiguos)\n",
    "IO_por_CNO.head()"
   ]
  },
  {
   "cell_type": "code",
   "execution_count": 48,
   "id": "7e850014-2400-4f61-9738-19bc26666535",
   "metadata": {},
   "outputs": [],
   "source": [
    "IO_por_CNO.to_excel(\"Export/recursos_por_CNO.xlsx\")"
   ]
  },
  {
   "cell_type": "code",
   "execution_count": 49,
   "id": "e7c245d5-8b31-4a71-9e6d-c574fbd31ccf",
   "metadata": {},
   "outputs": [
    {
     "name": "stdout",
     "output_type": "stream",
     "text": [
      "Total de Recursos por CNO: 1,320,000,000\n"
     ]
    }
   ],
   "source": [
    "suma_recursos_por_cno = IO_por_CNO['recursosxcno'].sum()\n",
    "print(f\"Total de Recursos por CNO: {suma_recursos_por_cno:,.0f}\")\n",
    "\n",
    "# verificar que los recursos asignados por ocupaciones sean iguales a los recursos disponbiles\n",
    "assert suma_recursos_por_cno == total_recursos_antiguos , f\"Los recursos dispersados no son iguales al total de recursos disponibles\""
   ]
  },
  {
   "cell_type": "code",
   "execution_count": 50,
   "id": "f3fe0bf1-82e7-4e1e-83b7-386fa22187b9",
   "metadata": {},
   "outputs": [],
   "source": [
    "#Agregarle la columna recrusosxcno al df Antiguos\n",
    "# Nota: Puede haber mas de un programa en una ocupacion, recursosxcno tiene valores duplicados\n",
    "Antiguos = Antiguos.merge(\n",
    "    # Le agreg\n",
    "    IO_por_CNO[['cod_CNO', 'Ocupacion','recursosxcno']],\n",
    "    on = ['cod_CNO','Ocupacion'],\n",
    "    how='left'\n",
    ")"
   ]
  },
  {
   "cell_type": "markdown",
   "id": "c6a79a81-9497-41f8-88b3-3d8d64da5de5",
   "metadata": {},
   "source": [
    "### PASO 2: Asignación de recursos en función del resultado de ISOEFT\n",
    "\n",
    "a) Ordenamiento de programas: Los programas dentro de cada ocupación se organizan en orden descendente, según su puntaje de desempeño en el ISOEFT, priorizando aquellos con mejor desempeño.\n",
    "\n",
    "b) Asignación secuencial de recursos: La distribución de los recursos se realiza de manera ordenada, asignándolos a los programas ordenados y agrupados Este proceso sigue una secuencia estructurada en la que los cupos se asignan hasta que ocurra alguna de las siguientes condiciones:\n",
    "\n",
    "- Se agoten los cupos ofertados dentro de la ocupación\n",
    "- Se agoten los recursos asignados para la ocupación\n",
    "- El saldo disponible no sea suficiente para financiar un cupo completo en ningún programa de la ocupación (siguiendo el ordenamiento por ISOEFT del programa)\n",
    "\n",
    "c) Si, al finalizar el proceso, quedan recursos sin asignar, estos se trasladarán a una bolsa común, que será distribuida en la siguiente fase del proceso de asignación de recursos (Paso 3)"
   ]
  },
  {
   "cell_type": "markdown",
   "id": "1764e620-7aa1-40c4-801b-06931173e854",
   "metadata": {},
   "source": [
    "**a)** Ejecutar paso 2.a\n",
    "\n",
    "El manual no es claro cual ocupación va primero:\n",
    "\n",
    "\"Ordenamiento de programas: Los programas dentro de cada ocupación se organizan en orden descendente, según su puntaje de desempeño en el ISOEFT, priorizando aquellos con mejor desempeño\"."
   ]
  },
  {
   "cell_type": "code",
   "execution_count": 51,
   "id": "ea87fa29-a458-4ca8-9c2a-4daae826760d",
   "metadata": {},
   "outputs": [
    {
     "ename": "AssertionError",
     "evalue": "Existen NaNs in ISOEFT_4d",
     "output_type": "error",
     "traceback": [
      "\u001b[0;31m---------------------------------------------------------------------------\u001b[0m",
      "\u001b[0;31mAssertionError\u001b[0m                            Traceback (most recent call last)",
      "Cell \u001b[0;32mIn[51], line 1\u001b[0m\n\u001b[0;32m----> 1\u001b[0m \u001b[38;5;28;01massert\u001b[39;00m Antiguos[\u001b[38;5;124m'\u001b[39m\u001b[38;5;124mISOEFT_4d\u001b[39m\u001b[38;5;124m'\u001b[39m]\u001b[38;5;241m.\u001b[39mnotna()\u001b[38;5;241m.\u001b[39mall(), \u001b[38;5;124m\"\u001b[39m\u001b[38;5;124mExisten NaNs in ISOEFT_4d\u001b[39m\u001b[38;5;124m\"\u001b[39m\n",
      "\u001b[0;31mAssertionError\u001b[0m: Existen NaNs in ISOEFT_4d"
     ]
    }
   ],
   "source": [
    "assert Antiguos['ISOEFT_4d'].notna().all(), \"Existen NaNs in ISOEFT_4d\""
   ]
  },
  {
   "cell_type": "code",
   "execution_count": 52,
   "id": "7f725619-e7a2-42fd-9371-efb7b625df8d",
   "metadata": {},
   "outputs": [],
   "source": [
    "assert Antiguos[columna_valor_programa].notna().all(), \"Existen NaNs in valor programa indexado\""
   ]
  },
  {
   "cell_type": "code",
   "execution_count": 53,
   "id": "d713abd7-461d-4ca5-873c-c2dda50e06e0",
   "metadata": {},
   "outputs": [],
   "source": [
    "Antiguos = ordenar_ocupaciones_por_isoeft(Antiguos)"
   ]
  },
  {
   "cell_type": "code",
   "execution_count": 54,
   "id": "7cf1d73f-2ba5-4a67-a740-7ac2c183749b",
   "metadata": {},
   "outputs": [
    {
     "data": {
      "text/html": [
       "<div>\n",
       "<style scoped>\n",
       "    .dataframe tbody tr th:only-of-type {\n",
       "        vertical-align: middle;\n",
       "    }\n",
       "\n",
       "    .dataframe tbody tr th {\n",
       "        vertical-align: top;\n",
       "    }\n",
       "\n",
       "    .dataframe thead th {\n",
       "        text-align: right;\n",
       "    }\n",
       "</style>\n",
       "<table border=\"1\" class=\"dataframe\">\n",
       "  <thead>\n",
       "    <tr style=\"text-align: right;\">\n",
       "      <th></th>\n",
       "      <th>cod_CNO</th>\n",
       "      <th>Ocupacion</th>\n",
       "      <th>IPO</th>\n",
       "      <th>ISOEFT_4d</th>\n",
       "      <th>CODIGO_INSTITUCION</th>\n",
       "      <th>CODIGO_PROGRAMA</th>\n",
       "      <th>nombre_programa</th>\n",
       "      <th>recursosxcno</th>\n",
       "      <th>numero_cupos_ofertar</th>\n",
       "    </tr>\n",
       "  </thead>\n",
       "  <tbody>\n",
       "    <tr>\n",
       "      <th>0</th>\n",
       "      <td>2281</td>\n",
       "      <td>Técnicos en tecnologías de la información</td>\n",
       "      <td>0.67</td>\n",
       "      <td>0.39</td>\n",
       "      <td>9025</td>\n",
       "      <td>42561</td>\n",
       "      <td>TÉCNICO LABORAL EN PROCESAMIENTO Y DIGITACIÓN ...</td>\n",
       "      <td>61,535,606.34</td>\n",
       "      <td>83</td>\n",
       "    </tr>\n",
       "    <tr>\n",
       "      <th>1</th>\n",
       "      <td>1345</td>\n",
       "      <td>Auxiliares administrativos en salud</td>\n",
       "      <td>0.62</td>\n",
       "      <td>0.61</td>\n",
       "      <td>975</td>\n",
       "      <td>43512</td>\n",
       "      <td>TÉCNICO LABORAL EN AUXILIAR ADMINISTRATIVO EN ...</td>\n",
       "      <td>111,126,632.02</td>\n",
       "      <td>80</td>\n",
       "    </tr>\n",
       "    <tr>\n",
       "      <th>2</th>\n",
       "      <td>1345</td>\n",
       "      <td>Auxiliares administrativos en salud</td>\n",
       "      <td>0.62</td>\n",
       "      <td>0.53</td>\n",
       "      <td>1236</td>\n",
       "      <td>41020</td>\n",
       "      <td>TÉCNICO LABORAL EN AUXILIAR ADMINISTRATIVO EN ...</td>\n",
       "      <td>111,126,632.02</td>\n",
       "      <td>80</td>\n",
       "    </tr>\n",
       "    <tr>\n",
       "      <th>3</th>\n",
       "      <td>3315</td>\n",
       "      <td>Auxiliares en servicios farmacéuticos</td>\n",
       "      <td>0.60</td>\n",
       "      <td>0.54</td>\n",
       "      <td>1236</td>\n",
       "      <td>41022</td>\n",
       "      <td>TÉCNICO LABORAL EN AUXILIAR EN SERVICIOS FARMA...</td>\n",
       "      <td>106,929,561.91</td>\n",
       "      <td>80</td>\n",
       "    </tr>\n",
       "    <tr>\n",
       "      <th>4</th>\n",
       "      <td>3315</td>\n",
       "      <td>Auxiliares en servicios farmacéuticos</td>\n",
       "      <td>0.60</td>\n",
       "      <td>0.53</td>\n",
       "      <td>975</td>\n",
       "      <td>43511</td>\n",
       "      <td>TÉCNICO LABORAL EN AUXILIAR EN SERVICIOS FARMA...</td>\n",
       "      <td>106,929,561.91</td>\n",
       "      <td>80</td>\n",
       "    </tr>\n",
       "  </tbody>\n",
       "</table>\n",
       "</div>"
      ],
      "text/plain": [
       "  cod_CNO                                  Ocupacion  IPO  ISOEFT_4d  \\\n",
       "0    2281  Técnicos en tecnologías de la información 0.67       0.39   \n",
       "1    1345        Auxiliares administrativos en salud 0.62       0.61   \n",
       "2    1345        Auxiliares administrativos en salud 0.62       0.53   \n",
       "3    3315      Auxiliares en servicios farmacéuticos 0.60       0.54   \n",
       "4    3315      Auxiliares en servicios farmacéuticos 0.60       0.53   \n",
       "\n",
       "   CODIGO_INSTITUCION  CODIGO_PROGRAMA  \\\n",
       "0                9025            42561   \n",
       "1                 975            43512   \n",
       "2                1236            41020   \n",
       "3                1236            41022   \n",
       "4                 975            43511   \n",
       "\n",
       "                                     nombre_programa   recursosxcno  \\\n",
       "0  TÉCNICO LABORAL EN PROCESAMIENTO Y DIGITACIÓN ...  61,535,606.34   \n",
       "1  TÉCNICO LABORAL EN AUXILIAR ADMINISTRATIVO EN ... 111,126,632.02   \n",
       "2  TÉCNICO LABORAL EN AUXILIAR ADMINISTRATIVO EN ... 111,126,632.02   \n",
       "3  TÉCNICO LABORAL EN AUXILIAR EN SERVICIOS FARMA... 106,929,561.91   \n",
       "4  TÉCNICO LABORAL EN AUXILIAR EN SERVICIOS FARMA... 106,929,561.91   \n",
       "\n",
       "   numero_cupos_ofertar  \n",
       "0                    83  \n",
       "1                    80  \n",
       "2                    80  \n",
       "3                    80  \n",
       "4                    80  "
      ]
     },
     "execution_count": 54,
     "metadata": {},
     "output_type": "execute_result"
    }
   ],
   "source": [
    "columnas_mostrar = [\n",
    "    'cod_CNO',\n",
    "    'Ocupacion',\n",
    "    'IPO',\n",
    "    'ISOEFT_4d',\n",
    "    'CODIGO_INSTITUCION',\n",
    "    'CODIGO_PROGRAMA',\n",
    "    'nombre_programa',\n",
    "    'recursosxcno', \n",
    "    'numero_cupos_ofertar'\n",
    "]\n",
    "Antiguos[columnas_mostrar].head()"
   ]
  },
  {
   "cell_type": "markdown",
   "id": "b273d120-f6a9-4542-9dba-b029c7c3ba85",
   "metadata": {},
   "source": [
    "**b)** Ejecutar Paso 2.b"
   ]
  },
  {
   "cell_type": "code",
   "execution_count": 55,
   "id": "655983c4-0464-439c-b179-72c886a03f0b",
   "metadata": {},
   "outputs": [],
   "source": [
    "Antiguos, asignacion_por_ocupacion_ant = asignar_recursos_y_cupos_viejos(Antiguos)"
   ]
  },
  {
   "cell_type": "code",
   "execution_count": 56,
   "id": "86bb9860-a31a-49dd-baa8-be66c525ca36",
   "metadata": {},
   "outputs": [
    {
     "data": {
      "text/html": [
       "<div>\n",
       "<style scoped>\n",
       "    .dataframe tbody tr th:only-of-type {\n",
       "        vertical-align: middle;\n",
       "    }\n",
       "\n",
       "    .dataframe tbody tr th {\n",
       "        vertical-align: top;\n",
       "    }\n",
       "\n",
       "    .dataframe thead th {\n",
       "        text-align: right;\n",
       "    }\n",
       "</style>\n",
       "<table border=\"1\" class=\"dataframe\">\n",
       "  <thead>\n",
       "    <tr style=\"text-align: right;\">\n",
       "      <th></th>\n",
       "      <th>cod_CNO</th>\n",
       "      <th>Ocupacion</th>\n",
       "      <th>recurso_asignado_2E</th>\n",
       "      <th>cupos_asignados_2E</th>\n",
       "      <th>recursosxcno</th>\n",
       "      <th>numero_cupos_ofertar</th>\n",
       "      <th>Saldo_No_Asignado_2E</th>\n",
       "      <th>cupos_no_asignados_2E</th>\n",
       "    </tr>\n",
       "  </thead>\n",
       "  <tbody>\n",
       "    <tr>\n",
       "      <th>0</th>\n",
       "      <td>1231</td>\n",
       "      <td>Asistentes contables</td>\n",
       "      <td>106,624,039.03</td>\n",
       "      <td>29</td>\n",
       "      <td>107,569,094.89</td>\n",
       "      <td>200</td>\n",
       "      <td>945,055.86</td>\n",
       "      <td>171</td>\n",
       "    </tr>\n",
       "    <tr>\n",
       "      <th>1</th>\n",
       "      <td>1345</td>\n",
       "      <td>Auxiliares administrativos en salud</td>\n",
       "      <td>110,572,617.97</td>\n",
       "      <td>17</td>\n",
       "      <td>111,126,632.02</td>\n",
       "      <td>160</td>\n",
       "      <td>554,014.05</td>\n",
       "      <td>143</td>\n",
       "    </tr>\n",
       "    <tr>\n",
       "      <th>2</th>\n",
       "      <td>2242</td>\n",
       "      <td>Técnicos en electrónica</td>\n",
       "      <td>42,623,849.96</td>\n",
       "      <td>10</td>\n",
       "      <td>45,308,756.34</td>\n",
       "      <td>75</td>\n",
       "      <td>2,684,906.38</td>\n",
       "      <td>65</td>\n",
       "    </tr>\n",
       "    <tr>\n",
       "      <th>3</th>\n",
       "      <td>2281</td>\n",
       "      <td>Técnicos en tecnologías de la información</td>\n",
       "      <td>57,725,449.20</td>\n",
       "      <td>12</td>\n",
       "      <td>61,535,606.34</td>\n",
       "      <td>83</td>\n",
       "      <td>3,810,157.14</td>\n",
       "      <td>71</td>\n",
       "    </tr>\n",
       "    <tr>\n",
       "      <th>4</th>\n",
       "      <td>3311</td>\n",
       "      <td>Auxiliares en enfermería</td>\n",
       "      <td>49,340,892.24</td>\n",
       "      <td>5</td>\n",
       "      <td>53,180,231.95</td>\n",
       "      <td>100</td>\n",
       "      <td>3,839,339.71</td>\n",
       "      <td>95</td>\n",
       "    </tr>\n",
       "  </tbody>\n",
       "</table>\n",
       "</div>"
      ],
      "text/plain": [
       "  cod_CNO                                  Ocupacion  recurso_asignado_2E  \\\n",
       "0    1231                       Asistentes contables       106,624,039.03   \n",
       "1    1345        Auxiliares administrativos en salud       110,572,617.97   \n",
       "2    2242                    Técnicos en electrónica        42,623,849.96   \n",
       "3    2281  Técnicos en tecnologías de la información        57,725,449.20   \n",
       "4    3311                   Auxiliares en enfermería        49,340,892.24   \n",
       "\n",
       "   cupos_asignados_2E   recursosxcno  numero_cupos_ofertar  \\\n",
       "0                  29 107,569,094.89                   200   \n",
       "1                  17 111,126,632.02                   160   \n",
       "2                  10  45,308,756.34                    75   \n",
       "3                  12  61,535,606.34                    83   \n",
       "4                   5  53,180,231.95                   100   \n",
       "\n",
       "   Saldo_No_Asignado_2E  cupos_no_asignados_2E  \n",
       "0            945,055.86                    171  \n",
       "1            554,014.05                    143  \n",
       "2          2,684,906.38                     65  \n",
       "3          3,810,157.14                     71  \n",
       "4          3,839,339.71                     95  "
      ]
     },
     "execution_count": 56,
     "metadata": {},
     "output_type": "execute_result"
    }
   ],
   "source": [
    "asignacion_por_ocupacion_ant.head()"
   ]
  },
  {
   "cell_type": "markdown",
   "id": "8748d3e1-8741-4855-be5f-c59dbab9c92c",
   "metadata": {},
   "source": [
    "### PASO 3: Bolsa común con recursos excedentes para completar recursos"
   ]
  },
  {
   "cell_type": "markdown",
   "id": "bb78611b-b764-4fb3-921b-b306c77dc500",
   "metadata": {},
   "source": [
    "Los recursos excedentes serán agrupados en una bolsa común y asignados siguiendo lo estipulado en el paso 2. Primero, se ordenarán las ocupaciones según el IPO, y dentro de cada ocupación, los programas se priorizarán por su ISOEFT. La asignación de recursos continuará siguiendo este orden hasta que se financien todos los cupos de un programa, se agoten los recursos de la bolsa común o el saldo disponible no permita financiar al menos un cupo completo.\n",
    "\n",
    "Criterios de priorización:\n",
    "En caso de que haya programas que tengan el mismo valor del ISOEFT, los criterios de priorización para la asignación de recursos se realizarán en el siguiente orden:\n",
    "\n",
    "- i. Se dará preferencia a los programas con el menor valor de matrícula\n",
    "- ii. En el caso de que tengan el mismo valor de matrícula se priorizará el programa para el cual se hayan ofertado más cupos.\n",
    "- iii. En caso de los programas tengan el mismo valor de matrícula y el mismo número de cupos ofertados, se priorizará el programa con el menor número de horas."
   ]
  },
  {
   "cell_type": "code",
   "execution_count": 57,
   "id": "eabfd90a-0088-4ca5-ba3b-72300db0780d",
   "metadata": {},
   "outputs": [],
   "source": [
    "assert Antiguos[columna_valor_programa].notna().all(), \"Existen NaNs in valor programa indexado\""
   ]
  },
  {
   "cell_type": "code",
   "execution_count": 58,
   "id": "f25c5e1c-e57e-4af2-bae9-fb79c764ddbd",
   "metadata": {
    "scrolled": true
   },
   "outputs": [
    {
     "name": "stderr",
     "output_type": "stream",
     "text": [
      "/tmp/ipykernel_28100/3855908659.py:32: FutureWarning: Setting an item of incompatible dtype is deprecated and will raise an error in a future version of pandas. Value '28862724.599999998' has dtype incompatible with int64, please explicitly cast to a compatible dtype first.\n",
      "  Antiguos.at[idx, 'recurso_asignado_3E'] = recurso_asignado\n"
     ]
    }
   ],
   "source": [
    "Antiguos = asignar_tercera_etapa(Antiguos, asignacion_por_ocupacion_ant)"
   ]
  },
  {
   "cell_type": "code",
   "execution_count": 59,
   "id": "27e061c2-622e-424c-be01-0462b9d579ea",
   "metadata": {},
   "outputs": [
    {
     "data": {
      "text/html": [
       "<div>\n",
       "<style scoped>\n",
       "    .dataframe tbody tr th:only-of-type {\n",
       "        vertical-align: middle;\n",
       "    }\n",
       "\n",
       "    .dataframe tbody tr th {\n",
       "        vertical-align: top;\n",
       "    }\n",
       "\n",
       "    .dataframe thead th {\n",
       "        text-align: right;\n",
       "    }\n",
       "</style>\n",
       "<table border=\"1\" class=\"dataframe\">\n",
       "  <thead>\n",
       "    <tr style=\"text-align: right;\">\n",
       "      <th></th>\n",
       "      <th>cod_CNO</th>\n",
       "      <th>Ocupacion</th>\n",
       "      <th>IPO</th>\n",
       "      <th>ISOEFT_4d</th>\n",
       "      <th>CODIGO_INSTITUCION</th>\n",
       "      <th>CODIGO_PROGRAMA</th>\n",
       "      <th>recursosxcno</th>\n",
       "      <th>numero_cupos_ofertar</th>\n",
       "      <th>cupos_asignados_2E</th>\n",
       "      <th>recurso_asignado_2E</th>\n",
       "      <th>cupos_asignados_3E</th>\n",
       "      <th>recurso_asignado_3E</th>\n",
       "      <th>Total_Cupos_Asignados</th>\n",
       "      <th>Saldo_Remanente_3E</th>\n",
       "    </tr>\n",
       "  </thead>\n",
       "  <tbody>\n",
       "    <tr>\n",
       "      <th>0</th>\n",
       "      <td>2281</td>\n",
       "      <td>Técnicos en tecnologías de la información</td>\n",
       "      <td>0.67</td>\n",
       "      <td>0.39</td>\n",
       "      <td>9025</td>\n",
       "      <td>42561</td>\n",
       "      <td>61,535,606.34</td>\n",
       "      <td>83</td>\n",
       "      <td>12</td>\n",
       "      <td>57,725,449.20</td>\n",
       "      <td>6</td>\n",
       "      <td>28,862,724.60</td>\n",
       "      <td>18</td>\n",
       "      <td>4,390,248.13</td>\n",
       "    </tr>\n",
       "    <tr>\n",
       "      <th>1</th>\n",
       "      <td>1345</td>\n",
       "      <td>Auxiliares administrativos en salud</td>\n",
       "      <td>0.62</td>\n",
       "      <td>0.61</td>\n",
       "      <td>975</td>\n",
       "      <td>43512</td>\n",
       "      <td>111,126,632.02</td>\n",
       "      <td>80</td>\n",
       "      <td>17</td>\n",
       "      <td>110,572,617.97</td>\n",
       "      <td>0</td>\n",
       "      <td>0.00</td>\n",
       "      <td>17</td>\n",
       "      <td>4,390,248.13</td>\n",
       "    </tr>\n",
       "    <tr>\n",
       "      <th>2</th>\n",
       "      <td>1345</td>\n",
       "      <td>Auxiliares administrativos en salud</td>\n",
       "      <td>0.62</td>\n",
       "      <td>0.53</td>\n",
       "      <td>1236</td>\n",
       "      <td>41020</td>\n",
       "      <td>111,126,632.02</td>\n",
       "      <td>80</td>\n",
       "      <td>0</td>\n",
       "      <td>0.00</td>\n",
       "      <td>0</td>\n",
       "      <td>0.00</td>\n",
       "      <td>0</td>\n",
       "      <td>4,390,248.13</td>\n",
       "    </tr>\n",
       "    <tr>\n",
       "      <th>3</th>\n",
       "      <td>3315</td>\n",
       "      <td>Auxiliares en servicios farmacéuticos</td>\n",
       "      <td>0.60</td>\n",
       "      <td>0.54</td>\n",
       "      <td>1236</td>\n",
       "      <td>41022</td>\n",
       "      <td>106,929,561.91</td>\n",
       "      <td>80</td>\n",
       "      <td>16</td>\n",
       "      <td>106,447,062.42</td>\n",
       "      <td>0</td>\n",
       "      <td>0.00</td>\n",
       "      <td>16</td>\n",
       "      <td>4,390,248.13</td>\n",
       "    </tr>\n",
       "    <tr>\n",
       "      <th>4</th>\n",
       "      <td>3315</td>\n",
       "      <td>Auxiliares en servicios farmacéuticos</td>\n",
       "      <td>0.60</td>\n",
       "      <td>0.53</td>\n",
       "      <td>975</td>\n",
       "      <td>43511</td>\n",
       "      <td>106,929,561.91</td>\n",
       "      <td>80</td>\n",
       "      <td>0</td>\n",
       "      <td>0.00</td>\n",
       "      <td>0</td>\n",
       "      <td>0.00</td>\n",
       "      <td>0</td>\n",
       "      <td>4,390,248.13</td>\n",
       "    </tr>\n",
       "  </tbody>\n",
       "</table>\n",
       "</div>"
      ],
      "text/plain": [
       "  cod_CNO                                  Ocupacion  IPO  ISOEFT_4d  \\\n",
       "0    2281  Técnicos en tecnologías de la información 0.67       0.39   \n",
       "1    1345        Auxiliares administrativos en salud 0.62       0.61   \n",
       "2    1345        Auxiliares administrativos en salud 0.62       0.53   \n",
       "3    3315      Auxiliares en servicios farmacéuticos 0.60       0.54   \n",
       "4    3315      Auxiliares en servicios farmacéuticos 0.60       0.53   \n",
       "\n",
       "   CODIGO_INSTITUCION  CODIGO_PROGRAMA   recursosxcno  numero_cupos_ofertar  \\\n",
       "0                9025            42561  61,535,606.34                    83   \n",
       "1                 975            43512 111,126,632.02                    80   \n",
       "2                1236            41020 111,126,632.02                    80   \n",
       "3                1236            41022 106,929,561.91                    80   \n",
       "4                 975            43511 106,929,561.91                    80   \n",
       "\n",
       "   cupos_asignados_2E  recurso_asignado_2E  cupos_asignados_3E  \\\n",
       "0                  12        57,725,449.20                   6   \n",
       "1                  17       110,572,617.97                   0   \n",
       "2                   0                 0.00                   0   \n",
       "3                  16       106,447,062.42                   0   \n",
       "4                   0                 0.00                   0   \n",
       "\n",
       "   recurso_asignado_3E  Total_Cupos_Asignados  Saldo_Remanente_3E  \n",
       "0        28,862,724.60                     18        4,390,248.13  \n",
       "1                 0.00                     17        4,390,248.13  \n",
       "2                 0.00                      0        4,390,248.13  \n",
       "3                 0.00                     16        4,390,248.13  \n",
       "4                 0.00                      0        4,390,248.13  "
      ]
     },
     "execution_count": 59,
     "metadata": {},
     "output_type": "execute_result"
    }
   ],
   "source": [
    "columnas_mostrar = [\n",
    "    'cod_CNO',\n",
    "    'Ocupacion',\n",
    "    'IPO',\n",
    "    'ISOEFT_4d',\n",
    "    'CODIGO_INSTITUCION',\n",
    "    'CODIGO_PROGRAMA',\n",
    "    'recursosxcno', \n",
    "    'numero_cupos_ofertar',\n",
    "    'cupos_asignados_2E',\n",
    "    'recurso_asignado_2E',\n",
    "    'cupos_asignados_3E',\n",
    "    'recurso_asignado_3E',\n",
    "    'Total_Cupos_Asignados',\n",
    "    \"Saldo_Remanente_3E\"\n",
    "]\n",
    "Antiguos[columnas_mostrar].head()"
   ]
  },
  {
   "cell_type": "code",
   "execution_count": 60,
   "id": "9baa9cff-c32a-4c51-a79b-3013a4b99989",
   "metadata": {},
   "outputs": [],
   "source": [
    "Antiguos.to_excel(\"Export/Antiguos.xlsx\", index=False)\n",
    "asignacion_por_ocupacion_ant.to_excel(\"Export/AntiguosxOcupación.xlsx\", index=False)"
   ]
  },
  {
   "cell_type": "markdown",
   "id": "ac3c7ced-0de7-4d7b-a115-69443f30aa9b",
   "metadata": {},
   "source": [
    "------"
   ]
  },
  {
   "cell_type": "markdown",
   "id": "875a97c9-9138-4635-b7af-575c4327e35e",
   "metadata": {},
   "source": [
    "# Ruta: Nuevos"
   ]
  },
  {
   "cell_type": "markdown",
   "id": "84a80566-f4f1-4d49-8130-e9ed5c357cea",
   "metadata": {},
   "source": [
    "Pasos:\n",
    "1. PASO 1: Asignación por ocupación proporcional al IPO Ponderado\n",
    "2. PASO 2: Asignación de puntaje a partir de los elementos puntuables\n",
    "3. PASO 3: Asignación de recursos para la selección de cupos"
   ]
  },
  {
   "cell_type": "code",
   "execution_count": 61,
   "id": "b9d641ec-f2c8-4489-9ce7-8199abf7382e",
   "metadata": {},
   "outputs": [],
   "source": [
    "#Limpieza datos\n",
    "\n",
    "#reemplazar los codigos cno e ipo de manera segura\n",
    "Nuevos[['cod_CNO', 'IPO']] = Nuevos.apply(reemplazar_codigo, axis=1)\n",
    "# Forzar tipo entero en cod_CNO (permitiendo nulos)\n",
    "Nuevos['cod_CNO'] = pd.to_numeric(Nuevos['cod_CNO'], errors='coerce').astype('Int64')"
   ]
  },
  {
   "cell_type": "code",
   "execution_count": 62,
   "id": "670876ca-a048-4d69-9151-ef1c2860f37b",
   "metadata": {},
   "outputs": [
    {
     "name": "stdout",
     "output_type": "stream",
     "text": [
      "Recursos totales para disperar en la ruta de Nuevos: 990,000,000\n"
     ]
    }
   ],
   "source": [
    "total_recursos_nuevos = constants.recursos_por_ruta['nuevos']\n",
    "print(f\"Recursos totales para disperar en la ruta de Nuevos: {total_recursos_nuevos:,.0f}\")"
   ]
  },
  {
   "cell_type": "markdown",
   "id": "28eba795-a0ec-4cba-b1a9-b0ba170fbd29",
   "metadata": {},
   "source": [
    "### Paso 1 "
   ]
  },
  {
   "cell_type": "code",
   "execution_count": 63,
   "id": "6e49d8db-34e8-4b0a-8f3c-1b454a752daf",
   "metadata": {},
   "outputs": [],
   "source": [
    "#Nuevos['ipo_ponderado'] = Nuevos['numero_cupos_ofertar'] * Nuevos['IPO'] \n",
    "Nuevos = calcular_ipo_ponderado(Nuevos, alfa = 1)"
   ]
  },
  {
   "cell_type": "code",
   "execution_count": 64,
   "id": "8f19efca-8dcd-498c-99e9-e727c975d99c",
   "metadata": {},
   "outputs": [
    {
     "data": {
      "text/html": [
       "<div>\n",
       "<style scoped>\n",
       "    .dataframe tbody tr th:only-of-type {\n",
       "        vertical-align: middle;\n",
       "    }\n",
       "\n",
       "    .dataframe tbody tr th {\n",
       "        vertical-align: top;\n",
       "    }\n",
       "\n",
       "    .dataframe thead th {\n",
       "        text-align: right;\n",
       "    }\n",
       "</style>\n",
       "<table border=\"1\" class=\"dataframe\">\n",
       "  <thead>\n",
       "    <tr style=\"text-align: right;\">\n",
       "      <th></th>\n",
       "      <th>cod_CNO</th>\n",
       "      <th>recursosxcno</th>\n",
       "      <th>n_programas</th>\n",
       "    </tr>\n",
       "  </thead>\n",
       "  <tbody>\n",
       "    <tr>\n",
       "      <th>0</th>\n",
       "      <td>2281</td>\n",
       "      <td>589,967,275.83</td>\n",
       "      <td>4</td>\n",
       "    </tr>\n",
       "    <tr>\n",
       "      <th>1</th>\n",
       "      <td>2321</td>\n",
       "      <td>69,818,825.16</td>\n",
       "      <td>1</td>\n",
       "    </tr>\n",
       "    <tr>\n",
       "      <th>2</th>\n",
       "      <td>3311</td>\n",
       "      <td>60,442,068.24</td>\n",
       "      <td>1</td>\n",
       "    </tr>\n",
       "    <tr>\n",
       "      <th>3</th>\n",
       "      <td>6233</td>\n",
       "      <td>66,270,863.08</td>\n",
       "      <td>1</td>\n",
       "    </tr>\n",
       "    <tr>\n",
       "      <th>4</th>\n",
       "      <td>6374</td>\n",
       "      <td>70,705,815.68</td>\n",
       "      <td>1</td>\n",
       "    </tr>\n",
       "    <tr>\n",
       "      <th>5</th>\n",
       "      <td>6642</td>\n",
       "      <td>69,185,260.50</td>\n",
       "      <td>1</td>\n",
       "    </tr>\n",
       "    <tr>\n",
       "      <th>6</th>\n",
       "      <td>8325</td>\n",
       "      <td>63,609,891.52</td>\n",
       "      <td>1</td>\n",
       "    </tr>\n",
       "  </tbody>\n",
       "</table>\n",
       "</div>"
      ],
      "text/plain": [
       "   cod_CNO   recursosxcno  n_programas\n",
       "0     2281 589,967,275.83            4\n",
       "1     2321  69,818,825.16            1\n",
       "2     3311  60,442,068.24            1\n",
       "3     6233  66,270,863.08            1\n",
       "4     6374  70,705,815.68            1\n",
       "5     6642  69,185,260.50            1\n",
       "6     8325  63,609,891.52            1"
      ]
     },
     "execution_count": 64,
     "metadata": {},
     "output_type": "execute_result"
    }
   ],
   "source": [
    "IO_por_CNO_nuevo = calcular_recursos_por_cno(Nuevos, total_recursos_nuevos, group = ['cod_CNO'])\n",
    "IO_por_CNO_nuevo"
   ]
  },
  {
   "cell_type": "code",
   "execution_count": 65,
   "id": "7dfaa0ea-d034-4f21-9daf-99c831b82850",
   "metadata": {},
   "outputs": [],
   "source": [
    "IO_por_CNO_nuevo.to_excel(\"Export/recursos_por_CNO_nuevos.xlsx\")"
   ]
  },
  {
   "cell_type": "code",
   "execution_count": 66,
   "id": "a55b4052-f9b5-4b96-b980-ac8df8bb27b1",
   "metadata": {},
   "outputs": [
    {
     "name": "stdout",
     "output_type": "stream",
     "text": [
      "Total de Recursos para dispersar: 990,000,000\n"
     ]
    }
   ],
   "source": [
    "suma_recursos_por_cno = IO_por_CNO_nuevo['recursosxcno'].sum()\n",
    "print(f\"Total de Recursos para dispersar: {suma_recursos_por_cno:,.0f}\")\n",
    "\n",
    "# verificar que los recursos asignados por ocupaciones sean iguales a los recursos disponbiles\n",
    "assert suma_recursos_por_cno == total_recursos_nuevos , f\"Los recursos dispersados no son iguales al total de recursos disponibles\""
   ]
  },
  {
   "cell_type": "code",
   "execution_count": 67,
   "id": "197a9a25-b915-49e3-878d-05a8c6235612",
   "metadata": {},
   "outputs": [],
   "source": [
    "Nuevos = Nuevos.merge(\n",
    "    IO_por_CNO_nuevo[['cod_CNO','recursosxcno']],\n",
    "    on=['cod_CNO'],\n",
    "    how='left'\n",
    ")"
   ]
  },
  {
   "cell_type": "markdown",
   "id": "7bc91e06-2247-49b1-9e36-01e611ef0373",
   "metadata": {},
   "source": [
    "### Paso 2\n",
    "La data viene con la columna de puntajes"
   ]
  },
  {
   "cell_type": "markdown",
   "id": "846d0c55-e6a7-4ffd-a4ec-8c90a5a03744",
   "metadata": {},
   "source": [
    "### Paso 3"
   ]
  },
  {
   "cell_type": "code",
   "execution_count": 68,
   "id": "87636aac-df85-49cd-b6ec-e4e231fde7a5",
   "metadata": {},
   "outputs": [],
   "source": [
    "# Paso 2: Ordenar programas por prioridad (dentro de cada cod_CNO)\n",
    "Nuevos =  ordenar_sedes_programas(Nuevos)"
   ]
  },
  {
   "cell_type": "code",
   "execution_count": 69,
   "id": "c8558a8b-cae8-477a-a645-fe26802755d6",
   "metadata": {},
   "outputs": [],
   "source": [
    "Nuevos, asignacion_por_ocupacion_nuevos = asignar_recursos_y_cupos_nuevos(Nuevos)"
   ]
  },
  {
   "cell_type": "code",
   "execution_count": 70,
   "id": "96373538-2836-4c72-819c-c90f663112d0",
   "metadata": {},
   "outputs": [],
   "source": [
    "Nuevos.to_excel(\"Export/Nuevos.xlsx\", index=False)\n",
    "asignacion_por_ocupacion_nuevos.to_excel(\"Export/NuevosxOcupación.xlsx\", index=False)"
   ]
  },
  {
   "cell_type": "code",
   "execution_count": 71,
   "id": "4002c5fa-0eb4-4dba-af24-fc0b9e4fb039",
   "metadata": {},
   "outputs": [
    {
     "name": "stdout",
     "output_type": "stream",
     "text": [
      "Recursos asignados en Nuevos: 972,601,089\n"
     ]
    }
   ],
   "source": [
    "asignado_nuevos = asignacion_por_ocupacion_nuevos['recurso_asignado_2E'].sum()\n",
    "print(f\"Recursos asignados en Nuevos: {asignado_nuevos:,.0f}\")"
   ]
  },
  {
   "cell_type": "markdown",
   "id": "2d653459-ace1-481f-bf2e-6416828663da",
   "metadata": {},
   "source": [
    "-----"
   ]
  },
  {
   "cell_type": "markdown",
   "id": "cb18f825-eeac-4fa2-800c-11794f187346",
   "metadata": {},
   "source": [
    "### Grupos Cerrados"
   ]
  },
  {
   "cell_type": "markdown",
   "id": "7f8c140f-dacf-40c2-8071-c0c169f8c156",
   "metadata": {},
   "source": [
    "### Paso 1 "
   ]
  },
  {
   "cell_type": "markdown",
   "id": "227e48d5-c97b-4cd1-9796-7dae4ee035f2",
   "metadata": {},
   "source": [
    "La data viene con los puntajes"
   ]
  },
  {
   "cell_type": "markdown",
   "id": "a772fcac-13b5-46be-a6a4-51a7acf5a978",
   "metadata": {},
   "source": [
    "### Paso 2: Asignación de recursos para la selección de cupos"
   ]
  },
  {
   "cell_type": "code",
   "execution_count": 72,
   "id": "3784858e-1821-4aac-bd6f-6e1290859083",
   "metadata": {},
   "outputs": [],
   "source": [
    "# Ordenar programas por prioridad\n",
    "Grupos_Cerrados = ordenar_sedes_programas(Grupos_Cerrados, usar_cod_cno = False)"
   ]
  },
  {
   "cell_type": "code",
   "execution_count": 73,
   "id": "d1d50242-eba3-4934-9db3-e3775e12674e",
   "metadata": {},
   "outputs": [
    {
     "name": "stdout",
     "output_type": "stream",
     "text": [
      "Recursos totales para disperar en la ruta de Cerrados: 990,000,000\n"
     ]
    }
   ],
   "source": [
    "total_recursos_cerrados = constants.recursos_por_ruta['cerrados']\n",
    "print(f\"Recursos totales para disperar en la ruta de Cerrados: {total_recursos_cerrados:,.0f}\")"
   ]
  },
  {
   "cell_type": "code",
   "execution_count": 74,
   "id": "56976f02-0a49-4137-909f-88665569ae16",
   "metadata": {},
   "outputs": [],
   "source": [
    "# Se calcula el monto a dispersar sin considera el filtro de 50 programas minimo\n",
    "Grupos_Cerrados_final, saldo_cerrados =  asignar_recursos_grupos_cerrados(\n",
    "    Grupos_Cerrados,\n",
    "    total_recursos_cerrados\n",
    ")"
   ]
  },
  {
   "cell_type": "code",
   "execution_count": 75,
   "id": "38dfb094-e1ad-4369-aea9-f737cd57db2c",
   "metadata": {},
   "outputs": [
    {
     "data": {
      "text/html": [
       "<div>\n",
       "<style scoped>\n",
       "    .dataframe tbody tr th:only-of-type {\n",
       "        vertical-align: middle;\n",
       "    }\n",
       "\n",
       "    .dataframe tbody tr th {\n",
       "        vertical-align: top;\n",
       "    }\n",
       "\n",
       "    .dataframe thead th {\n",
       "        text-align: right;\n",
       "    }\n",
       "</style>\n",
       "<table border=\"1\" class=\"dataframe\">\n",
       "  <thead>\n",
       "    <tr style=\"text-align: right;\">\n",
       "      <th></th>\n",
       "      <th>nombre_institucion</th>\n",
       "      <th>VALOR TOTAL DEL PROGRAMA INDEXADO</th>\n",
       "      <th>Puntaje (nuevos y cerrados)</th>\n",
       "      <th>Número máximo de cupos por grupos</th>\n",
       "      <th>cupos_asignados_2E</th>\n",
       "      <th>recurso_asignado_2E</th>\n",
       "      <th>saldo_total_remanente</th>\n",
       "    </tr>\n",
       "  </thead>\n",
       "  <tbody>\n",
       "    <tr>\n",
       "      <th>0</th>\n",
       "      <td>KUEPA EDUTECH</td>\n",
       "      <td>4,810,454.10</td>\n",
       "      <td>88.75</td>\n",
       "      <td>888</td>\n",
       "      <td>110</td>\n",
       "      <td>529,149,951.00</td>\n",
       "      <td>460,850,049.00</td>\n",
       "    </tr>\n",
       "    <tr>\n",
       "      <th>1</th>\n",
       "      <td>KUEPA EDUTECH</td>\n",
       "      <td>4,810,454.10</td>\n",
       "      <td>88.75</td>\n",
       "      <td>277</td>\n",
       "      <td>40</td>\n",
       "      <td>192,418,164.00</td>\n",
       "      <td>268,431,885.00</td>\n",
       "    </tr>\n",
       "    <tr>\n",
       "      <th>2</th>\n",
       "      <td>KUEPA EDUTECH</td>\n",
       "      <td>4,810,454.10</td>\n",
       "      <td>88.75</td>\n",
       "      <td>69</td>\n",
       "      <td>20</td>\n",
       "      <td>96,209,082.00</td>\n",
       "      <td>172,222,803.00</td>\n",
       "    </tr>\n",
       "    <tr>\n",
       "      <th>3</th>\n",
       "      <td>CESDE BOGOTÁ</td>\n",
       "      <td>6,232,522.68</td>\n",
       "      <td>56.75</td>\n",
       "      <td>90</td>\n",
       "      <td>27</td>\n",
       "      <td>168,278,112.33</td>\n",
       "      <td>3,944,690.67</td>\n",
       "    </tr>\n",
       "    <tr>\n",
       "      <th>4</th>\n",
       "      <td>CESDE BOGOTÁ</td>\n",
       "      <td>5,406,154.01</td>\n",
       "      <td>56.75</td>\n",
       "      <td>60</td>\n",
       "      <td>0</td>\n",
       "      <td>0.00</td>\n",
       "      <td>3,944,690.67</td>\n",
       "    </tr>\n",
       "    <tr>\n",
       "      <th>5</th>\n",
       "      <td>FEE ESTUDIO EMPRESARIAL - CHAPINERO</td>\n",
       "      <td>6,194,543.61</td>\n",
       "      <td>56.25</td>\n",
       "      <td>420</td>\n",
       "      <td>0</td>\n",
       "      <td>0.00</td>\n",
       "      <td>3,944,690.67</td>\n",
       "    </tr>\n",
       "    <tr>\n",
       "      <th>6</th>\n",
       "      <td>FEE ESTUDIO EMPRESARIAL - CHAPINERO</td>\n",
       "      <td>6,504,271.65</td>\n",
       "      <td>56.25</td>\n",
       "      <td>420</td>\n",
       "      <td>0</td>\n",
       "      <td>0.00</td>\n",
       "      <td>3,944,690.67</td>\n",
       "    </tr>\n",
       "    <tr>\n",
       "      <th>7</th>\n",
       "      <td>FEE ESTUDIO EMPRESARIAL - TEUSAQUILLO</td>\n",
       "      <td>6,652,941.40</td>\n",
       "      <td>56.25</td>\n",
       "      <td>612</td>\n",
       "      <td>0</td>\n",
       "      <td>0.00</td>\n",
       "      <td>3,944,690.67</td>\n",
       "    </tr>\n",
       "    <tr>\n",
       "      <th>8</th>\n",
       "      <td>FEE ESTUDIO EMPRESARIAL - TEUSAQUILLO</td>\n",
       "      <td>6,652,941.40</td>\n",
       "      <td>56.25</td>\n",
       "      <td>612</td>\n",
       "      <td>0</td>\n",
       "      <td>0.00</td>\n",
       "      <td>3,944,690.67</td>\n",
       "    </tr>\n",
       "    <tr>\n",
       "      <th>9</th>\n",
       "      <td>MEDISED INSTITUCION DE EDUCACION PARA EL TRABA...</td>\n",
       "      <td>6,839,631.92</td>\n",
       "      <td>32.38</td>\n",
       "      <td>100</td>\n",
       "      <td>0</td>\n",
       "      <td>0.00</td>\n",
       "      <td>3,944,690.67</td>\n",
       "    </tr>\n",
       "  </tbody>\n",
       "</table>\n",
       "</div>"
      ],
      "text/plain": [
       "                                  nombre_institucion  \\\n",
       "0                                      KUEPA EDUTECH   \n",
       "1                                      KUEPA EDUTECH   \n",
       "2                                      KUEPA EDUTECH   \n",
       "3                                       CESDE BOGOTÁ   \n",
       "4                                       CESDE BOGOTÁ   \n",
       "5                FEE ESTUDIO EMPRESARIAL - CHAPINERO   \n",
       "6                FEE ESTUDIO EMPRESARIAL - CHAPINERO   \n",
       "7              FEE ESTUDIO EMPRESARIAL - TEUSAQUILLO   \n",
       "8              FEE ESTUDIO EMPRESARIAL - TEUSAQUILLO   \n",
       "9  MEDISED INSTITUCION DE EDUCACION PARA EL TRABA...   \n",
       "\n",
       "   VALOR TOTAL DEL PROGRAMA INDEXADO  Puntaje (nuevos y cerrados)  \\\n",
       "0                       4,810,454.10                        88.75   \n",
       "1                       4,810,454.10                        88.75   \n",
       "2                       4,810,454.10                        88.75   \n",
       "3                       6,232,522.68                        56.75   \n",
       "4                       5,406,154.01                        56.75   \n",
       "5                       6,194,543.61                        56.25   \n",
       "6                       6,504,271.65                        56.25   \n",
       "7                       6,652,941.40                        56.25   \n",
       "8                       6,652,941.40                        56.25   \n",
       "9                       6,839,631.92                        32.38   \n",
       "\n",
       "   Número máximo de cupos por grupos  cupos_asignados_2E  recurso_asignado_2E  \\\n",
       "0                                888                 110       529,149,951.00   \n",
       "1                                277                  40       192,418,164.00   \n",
       "2                                 69                  20        96,209,082.00   \n",
       "3                                 90                  27       168,278,112.33   \n",
       "4                                 60                   0                 0.00   \n",
       "5                                420                   0                 0.00   \n",
       "6                                420                   0                 0.00   \n",
       "7                                612                   0                 0.00   \n",
       "8                                612                   0                 0.00   \n",
       "9                                100                   0                 0.00   \n",
       "\n",
       "   saldo_total_remanente  \n",
       "0         460,850,049.00  \n",
       "1         268,431,885.00  \n",
       "2         172,222,803.00  \n",
       "3           3,944,690.67  \n",
       "4           3,944,690.67  \n",
       "5           3,944,690.67  \n",
       "6           3,944,690.67  \n",
       "7           3,944,690.67  \n",
       "8           3,944,690.67  \n",
       "9           3,944,690.67  "
      ]
     },
     "execution_count": 75,
     "metadata": {},
     "output_type": "execute_result"
    }
   ],
   "source": [
    "Grupos_Cerrados_final[['nombre_institucion',columna_valor_programa,'Puntaje (nuevos y cerrados)',columna_cupos_maximos,'cupos_asignados_2E', 'recurso_asignado_2E', 'saldo_total_remanente']]"
   ]
  },
  {
   "cell_type": "code",
   "execution_count": 76,
   "id": "af58f4be-a2c3-4a68-92ba-f50f8c30e704",
   "metadata": {},
   "outputs": [
    {
     "name": "stdout",
     "output_type": "stream",
     "text": [
      "Recursos asignados en Cerrados: 986,055,309\n"
     ]
    }
   ],
   "source": [
    "asignado_cerrados =  Grupos_Cerrados_final['recurso_asignado_2E'].sum()\n",
    "print(f\"Recursos asignados en Cerrados: {asignado_cerrados:,.0f}\")"
   ]
  },
  {
   "cell_type": "code",
   "execution_count": 77,
   "id": "959059fa-bbf0-4c24-9735-ab90b63b8053",
   "metadata": {},
   "outputs": [],
   "source": [
    "Grupos_Cerrados_final.to_excel(\"Export/GCerrados.xlsx\", index=False)"
   ]
  },
  {
   "cell_type": "markdown",
   "id": "eea75110-275f-42cd-87e4-cb0633f78996",
   "metadata": {},
   "source": [
    "----"
   ]
  },
  {
   "cell_type": "code",
   "execution_count": 78,
   "id": "ee12bf35-000a-4c04-973e-dc308c749646",
   "metadata": {},
   "outputs": [
    {
     "name": "stdout",
     "output_type": "stream",
     "text": [
      "Bolsa remanente Antiguos: 4,390,248\n",
      "Bolsa remanente Nuevos: 17,398,911\n",
      "Bolsa remanente Cerrados: 3,944,691\n"
     ]
    }
   ],
   "source": [
    "recursos_remanente_antiguos = Antiguos['Saldo_Remanente_3E'].loc[0] \n",
    "print(f\"Bolsa remanente Antiguos: {recursos_remanente_antiguos:,.0f}\")\n",
    "recursos_remanente_nuevos = asignacion_por_ocupacion_nuevos['Saldo_No_Asignado_2E'].sum()\n",
    "print(f\"Bolsa remanente Nuevos: {recursos_remanente_nuevos:,.0f}\")\n",
    "recursos_remanente_cerrados = Grupos_Cerrados_final.iloc[-1][\"saldo_total_remanente\"]\n",
    "print(f\"Bolsa remanente Cerrados: {recursos_remanente_cerrados:,.0f}\")\n",
    "bolsa_comun = recursos_remanente_antiguos + recursos_remanente_nuevos + recursos_remanente_cerrados"
   ]
  },
  {
   "cell_type": "code",
   "execution_count": 79,
   "id": "5ad67812-736d-4410-95b8-3298e1408afc",
   "metadata": {},
   "outputs": [
    {
     "name": "stdout",
     "output_type": "stream",
     "text": [
      "Bolsa remanente: 25,733,849\n"
     ]
    }
   ],
   "source": [
    "print(f\"Bolsa remanente: {bolsa_comun:,.0f}\")"
   ]
  },
  {
   "cell_type": "code",
   "execution_count": 80,
   "id": "a7c593dc-0c84-4db3-b4c6-e4a1b04c3344",
   "metadata": {},
   "outputs": [],
   "source": [
    "#identificar los programas que aun no han llenado cupos:\n",
    "Grupos_Cerrados_remanente = Grupos_Cerrados_final[\n",
    "    Grupos_Cerrados_final['numero_cupos_ofertar'] - Grupos_Cerrados_final['cupos_asignados_2E'] > 0\n",
    "].reset_index(drop=True)\n",
    "\n",
    "Grupos_Cerrados_remanente = ordenar_sedes_programas(Grupos_Cerrados_remanente, usar_cod_cno = False)\n",
    "\n",
    "Nuevos_remanente = Nuevos[\n",
    "    Nuevos['numero_cupos_ofertar'] - Nuevos['cupos_asignados_2E'] > 0\n",
    "].reset_index(drop=True)\n",
    "\n",
    "Nuevos_remanente = ordenar_sedes_programas(Nuevos_remanente)\n",
    "\n",
    "Antiguos_remanente = Antiguos[\n",
    "    Antiguos['numero_cupos_ofertar'] - Antiguos['Total_Cupos_Asignados'] > 0\n",
    "].reset_index(drop=True)\n",
    "\n",
    "Antiguos_remanente = ordenar_ocupaciones_por_isoeft(Antiguos_remanente)"
   ]
  },
  {
   "cell_type": "code",
   "execution_count": 81,
   "id": "a2f0e632-4c12-42f3-a943-f95bee2f32c2",
   "metadata": {},
   "outputs": [],
   "source": [
    "#llenar cupos de cerrados\n",
    "Grupos_Cerrados_remanente, saldo_cerrados =  asignar_recursos_grupos_cerrados(\n",
    "    Grupos_Cerrados_remanente,\n",
    "    bolsa_comun\n",
    ")\n",
    "\n",
    "bolsa_comun = Grupos_Cerrados_remanente['saldo_total_remanente'].iloc[-1]"
   ]
  },
  {
   "cell_type": "code",
   "execution_count": 82,
   "id": "6aad7f60-1947-4514-9e1d-cebb805c2fdc",
   "metadata": {},
   "outputs": [
    {
     "name": "stdout",
     "output_type": "stream",
     "text": [
      "Bolsa remanente: 803,759\n"
     ]
    }
   ],
   "source": [
    "print(f\"Bolsa remanente: {bolsa_comun:,.0f}\")"
   ]
  },
  {
   "cell_type": "code",
   "execution_count": 83,
   "id": "798ec863-2414-4325-9d77-a222402cc3d1",
   "metadata": {},
   "outputs": [
    {
     "name": "stdout",
     "output_type": "stream",
     "text": [
      "Bolsa remanente: 803,759\n"
     ]
    }
   ],
   "source": [
    "Nuevos_remanente, bolsa_comun = reasignar_remanente(Nuevos_remanente,bolsa_comun)\n",
    "print(f\"Bolsa remanente: {bolsa_comun:,.0f}\")"
   ]
  },
  {
   "cell_type": "code",
   "execution_count": 84,
   "id": "46711871-0061-4390-b67d-82016ce5703a",
   "metadata": {},
   "outputs": [
    {
     "name": "stdout",
     "output_type": "stream",
     "text": [
      "Bolsa remanente: 803,759\n"
     ]
    }
   ],
   "source": [
    "Antiguos_remanente, bolsa_comun = reasignar_remanente(Antiguos_remanente, bolsa_comun, columna_cupos = \"cupos_asignados_3E\")\n",
    "print(f\"Bolsa remanente: {bolsa_comun:,.0f}\")"
   ]
  },
  {
   "cell_type": "markdown",
   "id": "55cc6a1b-1f02-4904-bc99-a41a4020c142",
   "metadata": {},
   "source": [
    "---------"
   ]
  },
  {
   "cell_type": "code",
   "execution_count": 85,
   "id": "ae2593d4-c7fc-4f29-8ae1-edaacad7ed13",
   "metadata": {},
   "outputs": [],
   "source": [
    "def unir_con_remanente_v2(df_original, df_remanente, llaves=['cod_CNO', 'nombre_programa', 'nombre_institucion']):\n",
    "    \"\"\"\n",
    "    Devuelve un DataFrame combinado que prioriza las filas del original (df_original),\n",
    "    especialmente el valor de 'recurso_asignado_2E', y conserva filas nuevas del remanent   \n",
    "    Calcula los recursos por cno segun la formula del paso 1 de la ruta de antiguos y nuevos. \n",
    "    \n",
    "    Parámetros:\n",
    "        df (pd.DataFrame): DataFrame con columnas 'cod_CNO', 'Ocupacion', 'ipo_ponderado', 'numero_cupos_ofertar', 'IPO'.\n",
    "        total_recursos (float): Total de recursos disponibles para distribuir.\n",
    "\n",
    "    Retorna:\n",
    "        pd.DataFrame: DataFrame con las métricas agrupadas y columna 'recursosxcno' calculada.\n",
    "    \"\"\"\n",
    "    \"\"\"\n",
    "    # 1. Calcular la suma total de ipo_ponderado\n",
    "    IO_total = df['ipo_ponderado'].sum()\n",
    "\n",
    "    # 2. Agrupar por cod_CNO y Ocupacion\n",
    "    IO_por_CNO = (e\n",
    "    que no estaban originalmente, eliminando duplicados por llaves.\n",
    "\n",
    "    Parámetros:\n",
    "        df_original (pd.DataFrame): DataFrame original antes de la reasignación.\n",
    "        df_remanente (pd.DataFrame): DataFrame después de la reasignación.\n",
    "        llaves (list[str]): Columnas clave para identificar filas únicas.\n",
    "\n",
    "    Retorna:\n",
    "        pd.DataFrame: DataFrame combinado con prioridad a valores de df_original.\n",
    "    \"\"\"\n",
    "    # Remover columna que se quiere preservar desde el original\n",
    "    if 'recurso_asignado_2E' in df_remanente.columns:\n",
    "        df_remanente = df_remanente.drop(columns=['recurso_asignado_2E'])\n",
    "\n",
    "    # Concatenar remanente debajo para que df_original tenga prioridad al hacer drop_duplicates\n",
    "    combinado = pd.concat([df_original, df_remanente], ignore_index=True)\n",
    "\n",
    "    # Quitar duplicados priorizando df_original\n",
    "    df_final = combinado.drop_duplicates(subset=llaves, keep='first')\n",
    "\n",
    "    return df_final\n",
    "\n"
   ]
  },
  {
   "cell_type": "code",
   "execution_count": 86,
   "id": "768c73cc-3896-4150-821d-e1f906cf4892",
   "metadata": {},
   "outputs": [],
   "source": [
    "def unir_con_remanente_v3(df_original, df_remanente, llaves=['cod_CNO', 'nombre_programa', 'nombre_institucion']):\n",
    "    \"\"\"\n",
    "    Devuelve un DataFrame combinado que prioriza las filas actualizadas del remanente\n",
    "    y conserva las filas no modificadas del original, sumando 'recurso_asignado_2E' y\n",
    "    'cupos_asignados_2E' para filas duplicadas por llaves.\n",
    "\n",
    "    Parámetros:\n",
    "        df_original (pd.DataFrame): DataFrame original antes de la reasignación.\n",
    "        df_remanente (pd.DataFrame): DataFrame después de la reasignación.\n",
    "        llaves (list[str]): Columnas clave para identificar filas únicas.\n",
    "\n",
    "    Retorna:\n",
    "        pd.DataFrame: DataFrame combinado con recursos y cupos sumados en duplicados.\n",
    "    \"\"\"\n",
    "    combinado = pd.concat([df_original, df_remanente], ignore_index=True)\n",
    "\n",
    "    columnas_sumar = []\n",
    "    if 'recurso_asignado_2E' in combinado.columns:\n",
    "        columnas_sumar.append('recurso_asignado_2E')\n",
    "    if 'cupos_asignados_2E' in combinado.columns:\n",
    "        columnas_sumar.append('cupos_asignados_2E')\n",
    "\n",
    "    otras_columnas = [\n",
    "        col for col in combinado.columns\n",
    "        if col not in llaves + columnas_sumar\n",
    "    ]\n",
    "\n",
    "    if columnas_sumar:\n",
    "        agg_dict = {col: 'sum' for col in columnas_sumar}\n",
    "        agg_dict.update({col: 'first' for col in otras_columnas})\n",
    "\n",
    "        df_final = (\n",
    "            combinado\n",
    "            .groupby(llaves, as_index=False)\n",
    "            .agg(agg_dict)\n",
    "        )\n",
    "    else:\n",
    "        df_final = combinado.drop_duplicates(subset=llaves, keep='first')\n",
    "\n",
    "    return df_final\n"
   ]
  },
  {
   "cell_type": "code",
   "execution_count": 87,
   "id": "92941660-8d4e-49f4-8ef6-da78f4c57125",
   "metadata": {},
   "outputs": [],
   "source": [
    "llaves = ['cod_CNO', 'nombre_institucion','nombre_programa']\n",
    "\n",
    "Nuevos_consolidado = unir_con_remanente_v2(Nuevos, Nuevos_remanente, llaves)\n",
    "Grupos_Cerrados_consolidado = unir_con_remanente_v3(Grupos_Cerrados_final, Grupos_Cerrados_remanente, llaves = llaves)\n",
    "Antiguos_consolidado = unir_con_remanente_v2(Antiguos, Antiguos_remanente, llaves)\n"
   ]
  },
  {
   "cell_type": "code",
   "execution_count": 88,
   "id": "c577c20d-5307-4479-98c6-6041a0abf052",
   "metadata": {},
   "outputs": [
    {
     "name": "stdout",
     "output_type": "stream",
     "text": [
      "Asignado Antiguos: 1,315,609,752\n",
      "Asignado cerrados: 1,010,985,400\n",
      "Asignado nuevos: 972,601,089\n",
      "Asignado total: 3,299,196,241\n"
     ]
    }
   ],
   "source": [
    "#Antiguos\n",
    "asignado_antiguos = Antiguos_consolidado['Total_Recurso_Asignado'].sum() + Antiguos_consolidado[\"recurso_asignado_remanente\"].sum()\n",
    "Antiguos_consolidado['total_dispersado'] = Antiguos_consolidado['Total_Recurso_Asignado'].fillna(0) + Antiguos_consolidado[\"recurso_asignado_remanente\"].fillna(0)\n",
    "Antiguos_consolidado['total_cupos_habilitados'] = Antiguos_consolidado['Total_Cupos_Asignados'].fillna(0) + Antiguos_consolidado[\"cupos_asignados_remanente\"].fillna(0)\n",
    "print(f\"Asignado Antiguos: {asignado_antiguos:,.0f}\")\n",
    "\n",
    "#CERRADOS\n",
    "asignado_cerrados = Grupos_Cerrados_consolidado['recurso_asignado_2E'].sum()\n",
    "Grupos_Cerrados_consolidado['total_dispersado'] = Grupos_Cerrados_consolidado['recurso_asignado_2E'].fillna(0)\n",
    "Grupos_Cerrados_consolidado['total_cupos_habilitados'] = Grupos_Cerrados_consolidado['cupos_asignados_2E'].fillna(0)\n",
    "print(f\"Asignado cerrados: {asignado_cerrados:,.0f}\")\n",
    "\n",
    "#NUEVOS\n",
    "asignado_nuevos = Nuevos_consolidado[\"recurso_asignado_remanente\"].sum()  + Nuevos_consolidado['recurso_asignado_2E'].sum()\n",
    "Nuevos_consolidado['total_dispersado'] = Nuevos_consolidado[\"recurso_asignado_remanente\"].fillna(0) + Nuevos_consolidado['recurso_asignado_2E'].fillna(0)\n",
    "Nuevos_consolidado['total_cupos_habilitados'] = Nuevos_consolidado[\"cupos_asignados_remanente\"].fillna(0) + Nuevos_consolidado['cupos_asignados_2E'].fillna(0)\n",
    "print(f\"Asignado nuevos: {asignado_nuevos:,.0f}\")\n",
    "\n",
    "total = asignado_antiguos +  asignado_cerrados  + asignado_nuevos\n",
    "print(f\"Asignado total: {total:,.0f}\")"
   ]
  },
  {
   "cell_type": "markdown",
   "id": "c24758b2-b8ea-48e5-bdd4-f68e22551046",
   "metadata": {},
   "source": [
    "------"
   ]
  },
  {
   "cell_type": "code",
   "execution_count": 89,
   "id": "1b1af3e6-b97c-4f8f-9f1f-5e40bd70af83",
   "metadata": {},
   "outputs": [],
   "source": [
    "Grupos_Cerrados_consolidado.to_excel(\"Export/cerrados_consolidado.xlsx\", index=False)\n",
    "Antiguos_consolidado.to_excel(\"Export/antiguos_consolidado.xlsx\", index=False)\n",
    "Nuevos_consolidado.to_excel(\"Export/nuevos_consolidado.xlsx\", index=False)"
   ]
  },
  {
   "cell_type": "code",
   "execution_count": 95,
   "id": "3fca2493-038f-4b0a-9fee-0dc9840f7e3b",
   "metadata": {},
   "outputs": [],
   "source": [
    "# Obtener las columnas comunes entre todos los DataFrames\n",
    "#columnas_exportar = columnas_exportar = list(Programas_EFT.columns) + ['total_dispersado', 'total_cupos_habilitados']\n",
    "\n",
    "columnas_exportar = [\n",
    "    'Ruta habilitada',\n",
    "    'nombre_institucion',\n",
    "    'cod_CNO',\n",
    "    'Ocupacion',\n",
    "    'nombre_programa',\n",
    "    \"CODIGO_PROGRAMA\",\n",
    "    'IPO',\n",
    "    'ISOEFT_4d',\n",
    "    'Puntaje (nuevos y cerrados)',\n",
    "    'Meta de vinculación',\n",
    "    columna_valor_programa,\n",
    "    \"numero_cupos_ofertar\",\n",
    "    'duracion_horas_programa',\n",
    "    'total_dispersado',\n",
    "    'total_cupos_habilitados',\n",
    "    \"Número máximo de cupos por grupos\",\n",
    "]\n",
    "\n",
    "# Filtrar solo esas columnas en cada DataFrame\n",
    "df_grupos = Grupos_Cerrados_consolidado[columnas_exportar]\n",
    "df_antiguos = Antiguos_consolidado[columnas_exportar]\n",
    "df_nuevos = Nuevos_consolidado[columnas_exportar]\n",
    "\n",
    "# Concatenar\n",
    "df_consolidado = pd.concat([df_grupos, df_antiguos, df_nuevos], ignore_index=True)\n",
    "\n",
    "# Guardar en distintas hojas del mismo Excel\n",
    "with pd.ExcelWriter(\"Export/Dispersiones_EFT_ciclolargo_primera_convocatoria.xlsx\", engine='openpyxl') as writer:\n",
    "    df_consolidado.to_excel(writer, sheet_name='Todos', index=False)\n",
    "    df_grupos.to_excel(writer, sheet_name='Grupos Cerrados', index=False)\n",
    "    df_antiguos.to_excel(writer, sheet_name='Antiguos', index=False)\n",
    "    df_nuevos.to_excel(writer, sheet_name='Nuevos', index=False)"
   ]
  },
  {
   "cell_type": "code",
   "execution_count": 96,
   "id": "c0caa95c-fd5c-49fd-9061-86eb8afe5b54",
   "metadata": {},
   "outputs": [
    {
     "name": "stdout",
     "output_type": "stream",
     "text": [
      "Total dispersado: 3,299,196,241\n"
     ]
    }
   ],
   "source": [
    "total_dispersado = df_consolidado['total_dispersado'].sum()\n",
    "print(f\"Total dispersado: {total_dispersado:,.0f}\")"
   ]
  },
  {
   "cell_type": "code",
   "execution_count": 97,
   "id": "2af03db8-4c85-4053-84e8-62d008d61f3a",
   "metadata": {},
   "outputs": [
    {
     "name": "stdout",
     "output_type": "stream",
     "text": [
      "total_cupos: 642\n"
     ]
    }
   ],
   "source": [
    "total_cupos = df_consolidado['total_cupos_habilitados'].sum()\n",
    "print(f\"total_cupos: {total_cupos:,.0f}\")"
   ]
  },
  {
   "cell_type": "markdown",
   "id": "a244c21d-d0f8-48fa-a41f-c5964be9b7c8",
   "metadata": {},
   "source": [
    "-----"
   ]
  },
  {
   "cell_type": "markdown",
   "id": "447bc4bc-602b-42fa-8ac2-b123355d6937",
   "metadata": {},
   "source": [
    "El siguiente dataframe es un resumen de 1 de las 3 alternativas de asignación:\n",
    "\n",
    "Este corresponde a la alternativa de \"Convexa\""
   ]
  },
  {
   "cell_type": "code",
   "execution_count": 98,
   "id": "36eb48c2-dfb4-432e-836e-667daa3d4eb7",
   "metadata": {},
   "outputs": [],
   "source": [
    "resumen = df_consolidado.groupby(\n",
    "    by=[\"Ruta habilitada\", \"nombre_institucion\", \"nombre_programa\",\"Ocupacion\"]\n",
    ").agg(\n",
    "    ISOEFT=(\"ISOEFT_4d\", \"first\"),\n",
    "    IPO=(\"IPO\", \"first\"),\n",
    "    cupos_habilitados=(\"total_cupos_habilitados\", \"sum\"),\n",
    "    monto_asignado = (\"total_dispersado\",\"sum\")\n",
    ").reset_index()\n",
    "\n",
    "resumen[\"ISOEFT\"] = resumen[\"ISOEFT\"].fillna(\"NA\")\n",
    "# Filtrar las filas donde cupos_habilitados > 0\n",
    "resumen = resumen[resumen[\"cupos_habilitados\"] > 0]\n",
    "\n",
    "resumen = resumen.sort_values(\n",
    "    by=[\"Ruta habilitada\", \"cupos_habilitados\"], ascending=[True, False]\n",
    ").reset_index(drop=True)\n",
    "\n",
    "# Convertir a minúsculas y luego capitalizar la primera letra\n",
    "resumen[\"nombre_institucion\"] = resumen[\"nombre_institucion\"].str.lower().str.capitalize()\n",
    "resumen[\"nombre_programa\"] = resumen[\"nombre_programa\"].str.lower().str.capitalize()\n",
    "\n",
    "\n",
    "resumen.to_excel(\"Export/resumen_resultados.xlsx\")"
   ]
  },
  {
   "cell_type": "code",
   "execution_count": 99,
   "id": "97903243-8dea-47eb-a1f1-cca3c68c13e8",
   "metadata": {},
   "outputs": [],
   "source": [
    "resumen[['Ruta habilitada','Ocupacion','IPO','cupos_habilitados','monto_asignado']].to_excel(\"Export/resumen_via_original.xlsx\")"
   ]
  },
  {
   "cell_type": "code",
   "execution_count": null,
   "id": "22d8cb72-6617-41b1-8b19-08abc485a035",
   "metadata": {},
   "outputs": [],
   "source": []
  }
 ],
 "metadata": {
  "kernelspec": {
   "display_name": "Python 3 (ipykernel)",
   "language": "python",
   "name": "python3"
  },
  "language_info": {
   "codemirror_mode": {
    "name": "ipython",
    "version": 3
   },
   "file_extension": ".py",
   "mimetype": "text/x-python",
   "name": "python",
   "nbconvert_exporter": "python",
   "pygments_lexer": "ipython3",
   "version": "3.10.12"
  }
 },
 "nbformat": 4,
 "nbformat_minor": 5
}
