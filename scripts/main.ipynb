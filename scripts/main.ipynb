{
 "cells": [
  {
   "cell_type": "markdown",
   "id": "105b55ad-ea62-4af6-ab0e-cbc7d9f5e1dc",
   "metadata": {},
   "source": [
    "## Fijar el absolute path un directorio arriba"
   ]
  },
  {
   "cell_type": "code",
   "execution_count": 1,
   "id": "f325d07d-db01-49cb-98e8-16566ec02c8d",
   "metadata": {},
   "outputs": [],
   "source": [
    "import sys\n",
    "import os\n",
    "\n",
    "# Add project root to Python path\n",
    "project_root = os.path.abspath(os.path.join(os.getcwd(), \"..\"))\n",
    "if project_root not in sys.path:\n",
    "    sys.path.append(project_root)"
   ]
  },
  {
   "cell_type": "markdown",
   "id": "fe0f2a5a-ce92-4f70-86a5-1519b31aa025",
   "metadata": {},
   "source": [
    "-----"
   ]
  },
  {
   "cell_type": "code",
   "execution_count": 2,
   "id": "7bd07de8-7a09-4887-ba04-eaf3548832ad",
   "metadata": {},
   "outputs": [],
   "source": [
    "import pandas as pd\n",
    "from asignacion.base import AsignacionBase\n",
    "from asignacion.nuevosyantiguos import AsignacionNuevosAntiguos\n",
    "from asignacion.antiguos import AsignacionAntiguos\n",
    "from asignacion.nuevos import AsignacionNuevos"
   ]
  },
  {
   "cell_type": "markdown",
   "id": "d1dd79e4-044e-4644-a746-ef7dc1f7d6f1",
   "metadata": {},
   "source": [
    "## Constantes"
   ]
  },
  {
   "cell_type": "code",
   "execution_count": 3,
   "id": "6e441eb2-a713-42c7-b57b-a9618522d3ca",
   "metadata": {},
   "outputs": [],
   "source": [
    "NOMBRE_ARCHIVO_HABILITADOS = \"Habilitados final 26052025.xlsx\"\n",
    "NOMBRE_ARCHIVO_COMPLEMENTARIO = \"Base final - Oferta Activa.pkl\""
   ]
  },
  {
   "cell_type": "markdown",
   "id": "53ada2db-e31a-483e-9bb9-f59459813663",
   "metadata": {},
   "source": [
    "## Ejecución"
   ]
  },
  {
   "cell_type": "code",
   "execution_count": 4,
   "id": "f36282ed-ca76-4884-9fe0-e782f71f3008",
   "metadata": {},
   "outputs": [],
   "source": [
    "asignacion_base = AsignacionBase()"
   ]
  },
  {
   "cell_type": "code",
   "execution_count": 5,
   "id": "c1e5043a-9de2-46a3-afa1-8268f3ba8d68",
   "metadata": {},
   "outputs": [
    {
     "name": "stdout",
     "output_type": "stream",
     "text": [
      "Los errores quedaron logeados en: ../output/logs/validacion.log\n"
     ]
    },
    {
     "name": "stderr",
     "output_type": "stream",
     "text": [
      "/home/alejandro/Documentos/ATENEA/Despacho/Asignacion EFT OOP/asignacion/base.py:130: UserWarning: Existen columnas con espacios adicionales\n",
      "  warnings.warn(\"Existen columnas con espacios adicionales\", category=UserWarning)\n",
      "/home/alejandro/Documentos/ATENEA/Despacho/Asignacion EFT OOP/asignacion/base.py:154: UserWarning: Existen columnas indispensables con valores nulos\n",
      "  warnings.warn(\"Existen columnas indispensables con valores nulos\", category=UserWarning)\n",
      "/home/alejandro/Documentos/ATENEA/Despacho/Asignacion EFT OOP/asignacion/base.py:165: UserWarning: Existen columnas indispensables con tipado no adecuado\n",
      "  warnings.warn(\"Existen columnas indispensables con tipado no adecuado\", category=UserWarning)\n"
     ]
    }
   ],
   "source": [
    "asignacion_base.validar_datos(NOMBRE_ARCHIVO_HABILITADOS)"
   ]
  },
  {
   "cell_type": "code",
   "execution_count": 6,
   "id": "2aa2eab8-40d5-43a5-a710-93c4662c4600",
   "metadata": {},
   "outputs": [
    {
     "name": "stdout",
     "output_type": "stream",
     "text": [
      "La llave es: codigo_programa. Ver diccionario para mayor detalle.\n",
      "Programas que cruzaron: 39\n",
      "Programas que NO cruzaron: 6\n"
     ]
    }
   ],
   "source": [
    "rutas = asignacion_base.crear_rutas(NOMBRE_ARCHIVO_HABILITADOS, NOMBRE_ARCHIVO_COMPLEMENTARIO)"
   ]
  },
  {
   "cell_type": "markdown",
   "id": "bebb92d6-9bb4-4caa-9e39-68a230246963",
   "metadata": {},
   "source": [
    "## Ruta Antiguos"
   ]
  },
  {
   "cell_type": "code",
   "execution_count": 7,
   "id": "c5087834-4aba-4afa-829d-41f87b587890",
   "metadata": {},
   "outputs": [],
   "source": [
    "#Obtener los datos de la ruta antigua\n",
    "df_antiguos = rutas['Antiguos']\n",
    "df_nuevos = rutas['Nuevos']"
   ]
  },
  {
   "cell_type": "markdown",
   "id": "e02e638f-afce-484b-b5fd-64f7a4f9a7d8",
   "metadata": {},
   "source": [
    "### Calcular recursos por CNO para Antiguos"
   ]
  },
  {
   "cell_type": "code",
   "execution_count": 8,
   "id": "9f2da887-d3a3-413e-b026-512b29cade10",
   "metadata": {},
   "outputs": [],
   "source": [
    "asignacion_nuevos_antiguos = AsignacionNuevosAntiguos(df_antiguos, \"antiguos\")"
   ]
  },
  {
   "cell_type": "code",
   "execution_count": 9,
   "id": "8798f7b9-0fd8-4a01-a766-44e31ce52c5f",
   "metadata": {},
   "outputs": [
    {
     "data": {
      "text/html": [
       "<div>\n",
       "<style scoped>\n",
       "    .dataframe tbody tr th:only-of-type {\n",
       "        vertical-align: middle;\n",
       "    }\n",
       "\n",
       "    .dataframe tbody tr th {\n",
       "        vertical-align: top;\n",
       "    }\n",
       "\n",
       "    .dataframe thead th {\n",
       "        text-align: right;\n",
       "    }\n",
       "</style>\n",
       "<table border=\"1\" class=\"dataframe\">\n",
       "  <thead>\n",
       "    <tr style=\"text-align: right;\">\n",
       "      <th></th>\n",
       "      <th>cod_CNO</th>\n",
       "      <th>ipo_ponderado</th>\n",
       "      <th>cuposxcno</th>\n",
       "      <th>ipo</th>\n",
       "      <th>n_programas</th>\n",
       "      <th>participacion_ipo</th>\n",
       "      <th>recursosxcno</th>\n",
       "    </tr>\n",
       "  </thead>\n",
       "  <tbody>\n",
       "    <tr>\n",
       "      <th>0</th>\n",
       "      <td>1231</td>\n",
       "      <td>96.553104</td>\n",
       "      <td>200</td>\n",
       "      <td>0.965531</td>\n",
       "      <td>2</td>\n",
       "      <td>0.081492</td>\n",
       "      <td>107569094.893503</td>\n",
       "    </tr>\n",
       "    <tr>\n",
       "      <th>1</th>\n",
       "      <td>1345</td>\n",
       "      <td>99.746319</td>\n",
       "      <td>160</td>\n",
       "      <td>1.246829</td>\n",
       "      <td>2</td>\n",
       "      <td>0.084187</td>\n",
       "      <td>111126632.019618</td>\n",
       "    </tr>\n",
       "    <tr>\n",
       "      <th>2</th>\n",
       "      <td>2242</td>\n",
       "      <td>40.668754</td>\n",
       "      <td>75</td>\n",
       "      <td>0.542250</td>\n",
       "      <td>1</td>\n",
       "      <td>0.034325</td>\n",
       "      <td>45308756.339758</td>\n",
       "    </tr>\n",
       "    <tr>\n",
       "      <th>3</th>\n",
       "      <td>2281</td>\n",
       "      <td>55.233837</td>\n",
       "      <td>83</td>\n",
       "      <td>0.665468</td>\n",
       "      <td>1</td>\n",
       "      <td>0.046618</td>\n",
       "      <td>61535606.340338</td>\n",
       "    </tr>\n",
       "    <tr>\n",
       "      <th>4</th>\n",
       "      <td>3311</td>\n",
       "      <td>47.734124</td>\n",
       "      <td>100</td>\n",
       "      <td>0.477341</td>\n",
       "      <td>1</td>\n",
       "      <td>0.040288</td>\n",
       "      <td>53180231.951057</td>\n",
       "    </tr>\n",
       "    <tr>\n",
       "      <th>5</th>\n",
       "      <td>3315</td>\n",
       "      <td>95.979065</td>\n",
       "      <td>160</td>\n",
       "      <td>1.199738</td>\n",
       "      <td>2</td>\n",
       "      <td>0.081007</td>\n",
       "      <td>106929561.908235</td>\n",
       "    </tr>\n",
       "    <tr>\n",
       "      <th>6</th>\n",
       "      <td>4311</td>\n",
       "      <td>143.197086</td>\n",
       "      <td>300</td>\n",
       "      <td>1.431971</td>\n",
       "      <td>3</td>\n",
       "      <td>0.12086</td>\n",
       "      <td>159534807.566849</td>\n",
       "    </tr>\n",
       "    <tr>\n",
       "      <th>7</th>\n",
       "      <td>5223</td>\n",
       "      <td>15.083047</td>\n",
       "      <td>30</td>\n",
       "      <td>0.502768</td>\n",
       "      <td>1</td>\n",
       "      <td>0.01273</td>\n",
       "      <td>16803910.225406</td>\n",
       "    </tr>\n",
       "    <tr>\n",
       "      <th>8</th>\n",
       "      <td>6234</td>\n",
       "      <td>32.623706</td>\n",
       "      <td>60</td>\n",
       "      <td>0.543728</td>\n",
       "      <td>1</td>\n",
       "      <td>0.027535</td>\n",
       "      <td>36345828.224421</td>\n",
       "    </tr>\n",
       "    <tr>\n",
       "      <th>9</th>\n",
       "      <td>6322</td>\n",
       "      <td>158.196293</td>\n",
       "      <td>285</td>\n",
       "      <td>1.110149</td>\n",
       "      <td>2</td>\n",
       "      <td>0.133519</td>\n",
       "      <td>176245312.531834</td>\n",
       "    </tr>\n",
       "    <tr>\n",
       "      <th>10</th>\n",
       "      <td>6355</td>\n",
       "      <td>194.070393</td>\n",
       "      <td>350</td>\n",
       "      <td>2.217947</td>\n",
       "      <td>4</td>\n",
       "      <td>0.163797</td>\n",
       "      <td>216212381.456063</td>\n",
       "    </tr>\n",
       "    <tr>\n",
       "      <th>11</th>\n",
       "      <td>8325</td>\n",
       "      <td>205.735039</td>\n",
       "      <td>410</td>\n",
       "      <td>2.508964</td>\n",
       "      <td>5</td>\n",
       "      <td>0.173642</td>\n",
       "      <td>229207876.542917</td>\n",
       "    </tr>\n",
       "  </tbody>\n",
       "</table>\n",
       "</div>"
      ],
      "text/plain": [
       "    cod_CNO  ipo_ponderado  cuposxcno       ipo  n_programas  \\\n",
       "0      1231      96.553104        200  0.965531            2   \n",
       "1      1345      99.746319        160  1.246829            2   \n",
       "2      2242      40.668754         75  0.542250            1   \n",
       "3      2281      55.233837         83  0.665468            1   \n",
       "4      3311      47.734124        100  0.477341            1   \n",
       "5      3315      95.979065        160  1.199738            2   \n",
       "6      4311     143.197086        300  1.431971            3   \n",
       "7      5223      15.083047         30  0.502768            1   \n",
       "8      6234      32.623706         60  0.543728            1   \n",
       "9      6322     158.196293        285  1.110149            2   \n",
       "10     6355     194.070393        350  2.217947            4   \n",
       "11     8325     205.735039        410  2.508964            5   \n",
       "\n",
       "    participacion_ipo      recursosxcno  \n",
       "0            0.081492  107569094.893503  \n",
       "1            0.084187  111126632.019618  \n",
       "2            0.034325   45308756.339758  \n",
       "3            0.046618   61535606.340338  \n",
       "4            0.040288   53180231.951057  \n",
       "5            0.081007  106929561.908235  \n",
       "6             0.12086  159534807.566849  \n",
       "7             0.01273   16803910.225406  \n",
       "8            0.027535   36345828.224421  \n",
       "9            0.133519  176245312.531834  \n",
       "10           0.163797  216212381.456063  \n",
       "11           0.173642  229207876.542917  "
      ]
     },
     "execution_count": 9,
     "metadata": {},
     "output_type": "execute_result"
    }
   ],
   "source": [
    "asignacion_nuevos_antiguos.recursosxcno"
   ]
  },
  {
   "cell_type": "markdown",
   "id": "b3d92582-b0f9-4c74-9709-a7a85eb0199f",
   "metadata": {},
   "source": [
    "### Calcular asignación de recursos"
   ]
  },
  {
   "cell_type": "code",
   "execution_count": 10,
   "id": "1b19905b-6f75-47dd-8ccc-fee08e632eb7",
   "metadata": {},
   "outputs": [],
   "source": [
    "asignacion_antiguos = AsignacionAntiguos(df_antiguos)"
   ]
  },
  {
   "cell_type": "code",
   "execution_count": 11,
   "id": "66a8401f-7caf-4399-88ee-9b06186b4418",
   "metadata": {},
   "outputs": [
    {
     "data": {
      "text/html": [
       "<div>\n",
       "<style scoped>\n",
       "    .dataframe tbody tr th:only-of-type {\n",
       "        vertical-align: middle;\n",
       "    }\n",
       "\n",
       "    .dataframe tbody tr th {\n",
       "        vertical-align: top;\n",
       "    }\n",
       "\n",
       "    .dataframe thead th {\n",
       "        text-align: right;\n",
       "    }\n",
       "</style>\n",
       "<table border=\"1\" class=\"dataframe\">\n",
       "  <thead>\n",
       "    <tr style=\"text-align: right;\">\n",
       "      <th></th>\n",
       "      <th>ocupacion</th>\n",
       "      <th>codigo_programa</th>\n",
       "      <th>codigo_programa</th>\n",
       "      <th>cod_CNO</th>\n",
       "      <th>ipo</th>\n",
       "      <th>isoeft_4d</th>\n",
       "      <th>recurso_asignado_2E</th>\n",
       "      <th>recurso_asignado_3E</th>\n",
       "      <th>Total_Recurso_Asignado</th>\n",
       "    </tr>\n",
       "  </thead>\n",
       "  <tbody>\n",
       "    <tr>\n",
       "      <th>0</th>\n",
       "      <td>Técnicos en electrónica</td>\n",
       "      <td>57273</td>\n",
       "      <td>57273</td>\n",
       "      <td>2242</td>\n",
       "      <td>0.542250</td>\n",
       "      <td>NaN</td>\n",
       "      <td>4.262385e+07</td>\n",
       "      <td>3.409908e+07</td>\n",
       "      <td>7.672293e+07</td>\n",
       "    </tr>\n",
       "    <tr>\n",
       "      <th>1</th>\n",
       "      <td>Auxiliares en enfermería</td>\n",
       "      <td>33315</td>\n",
       "      <td>33315</td>\n",
       "      <td>3311</td>\n",
       "      <td>0.477341</td>\n",
       "      <td>0.525863</td>\n",
       "      <td>4.934089e+07</td>\n",
       "      <td>0.000000e+00</td>\n",
       "      <td>4.934089e+07</td>\n",
       "    </tr>\n",
       "    <tr>\n",
       "      <th>2</th>\n",
       "      <td>Auxiliares de educación para la primera infancia</td>\n",
       "      <td>38448</td>\n",
       "      <td>38448</td>\n",
       "      <td>4311</td>\n",
       "      <td>0.477324</td>\n",
       "      <td>0.499078</td>\n",
       "      <td>1.536610e+08</td>\n",
       "      <td>0.000000e+00</td>\n",
       "      <td>1.536610e+08</td>\n",
       "    </tr>\n",
       "    <tr>\n",
       "      <th>3</th>\n",
       "      <td>Auxiliares de educación para la primera infancia</td>\n",
       "      <td>52362</td>\n",
       "      <td>52362</td>\n",
       "      <td>4311</td>\n",
       "      <td>0.477324</td>\n",
       "      <td>NaN</td>\n",
       "      <td>0.000000e+00</td>\n",
       "      <td>0.000000e+00</td>\n",
       "      <td>0.000000e+00</td>\n",
       "    </tr>\n",
       "    <tr>\n",
       "      <th>4</th>\n",
       "      <td>Mercaderistas e impulsadores</td>\n",
       "      <td>4347</td>\n",
       "      <td>4347</td>\n",
       "      <td>6322</td>\n",
       "      <td>0.555075</td>\n",
       "      <td>NaN</td>\n",
       "      <td>1.734193e+08</td>\n",
       "      <td>0.000000e+00</td>\n",
       "      <td>1.734193e+08</td>\n",
       "    </tr>\n",
       "  </tbody>\n",
       "</table>\n",
       "</div>"
      ],
      "text/plain": [
       "                                          ocupacion  codigo_programa  \\\n",
       "0                           Técnicos en electrónica            57273   \n",
       "1                          Auxiliares en enfermería            33315   \n",
       "2  Auxiliares de educación para la primera infancia            38448   \n",
       "3  Auxiliares de educación para la primera infancia            52362   \n",
       "4                      Mercaderistas e impulsadores             4347   \n",
       "\n",
       "   codigo_programa  cod_CNO       ipo  isoeft_4d  recurso_asignado_2E  \\\n",
       "0            57273     2242  0.542250        NaN         4.262385e+07   \n",
       "1            33315     3311  0.477341   0.525863         4.934089e+07   \n",
       "2            38448     4311  0.477324   0.499078         1.536610e+08   \n",
       "3            52362     4311  0.477324        NaN         0.000000e+00   \n",
       "4             4347     6322  0.555075        NaN         1.734193e+08   \n",
       "\n",
       "   recurso_asignado_3E  Total_Recurso_Asignado  \n",
       "0         3.409908e+07            7.672293e+07  \n",
       "1         0.000000e+00            4.934089e+07  \n",
       "2         0.000000e+00            1.536610e+08  \n",
       "3         0.000000e+00            0.000000e+00  \n",
       "4         0.000000e+00            1.734193e+08  "
      ]
     },
     "execution_count": 11,
     "metadata": {},
     "output_type": "execute_result"
    }
   ],
   "source": [
    "columnas = ['ocupacion','codigo_programa','cod_CNO','ipo','isoeft_4d','recurso_asignado_2E','recurso_asignado_3E','Total_Recurso_Asignado']\n",
    "asignacion_antiguos.segunda_asignacion[columnas].head()"
   ]
  },
  {
   "cell_type": "markdown",
   "id": "72bbfba5-1950-4c0d-bab2-c8300b0134f4",
   "metadata": {},
   "source": [
    "## Ruta Nuevos"
   ]
  },
  {
   "cell_type": "code",
   "execution_count": 12,
   "id": "5f406794-3f49-4d7f-9a3f-72b9801ca860",
   "metadata": {},
   "outputs": [],
   "source": [
    "asignacion_nuevos = AsignacionNuevos(df_nuevos)"
   ]
  },
  {
   "cell_type": "code",
   "execution_count": 13,
   "id": "6ec733b7-4bad-4c89-af39-6a04f1f3ea8b",
   "metadata": {},
   "outputs": [
    {
     "data": {
      "text/plain": [
       "990000000"
      ]
     },
     "execution_count": 13,
     "metadata": {},
     "output_type": "execute_result"
    }
   ],
   "source": [
    "asignacion_nuevos.recursos_iniciales"
   ]
  },
  {
   "cell_type": "code",
   "execution_count": 14,
   "id": "363e0d92-2376-41c7-9042-75e21d2c5432",
   "metadata": {},
   "outputs": [
    {
     "data": {
      "text/plain": [
       "np.float64(17398910.675873995)"
      ]
     },
     "execution_count": 14,
     "metadata": {},
     "output_type": "execute_result"
    }
   ],
   "source": [
    "asignacion_nuevos.recursos_disponibles"
   ]
  },
  {
   "cell_type": "code",
   "execution_count": 15,
   "id": "1632e039-87e1-4323-a098-0ce273684bf8",
   "metadata": {},
   "outputs": [
    {
     "data": {
      "text/plain": [
       "np.float64(972601089.324126)"
      ]
     },
     "execution_count": 15,
     "metadata": {},
     "output_type": "execute_result"
    }
   ],
   "source": [
    "asignacion_nuevos.recursos_asignados"
   ]
  },
  {
   "cell_type": "code",
   "execution_count": null,
   "id": "2186d47f-6ee0-49c6-ae2b-aff5885789f3",
   "metadata": {},
   "outputs": [],
   "source": []
  }
 ],
 "metadata": {
  "kernelspec": {
   "display_name": "Python 3 (ipykernel)",
   "language": "python",
   "name": "python3"
  },
  "language_info": {
   "codemirror_mode": {
    "name": "ipython",
    "version": 3
   },
   "file_extension": ".py",
   "mimetype": "text/x-python",
   "name": "python",
   "nbconvert_exporter": "python",
   "pygments_lexer": "ipython3",
   "version": "3.10.12"
  }
 },
 "nbformat": 4,
 "nbformat_minor": 5
}
