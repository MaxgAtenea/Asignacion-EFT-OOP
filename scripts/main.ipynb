{
 "cells": [
  {
   "cell_type": "markdown",
   "id": "105b55ad-ea62-4af6-ab0e-cbc7d9f5e1dc",
   "metadata": {},
   "source": [
    "## Fijar el absolute path un directorio arriba"
   ]
  },
  {
   "cell_type": "code",
   "execution_count": 31,
   "id": "f325d07d-db01-49cb-98e8-16566ec02c8d",
   "metadata": {},
   "outputs": [],
   "source": [
    "import sys\n",
    "import os\n",
    "\n",
    "# Add project root to Python path\n",
    "project_root = os.path.abspath(os.path.join(os.getcwd(), \"..\"))\n",
    "if project_root not in sys.path:\n",
    "    sys.path.append(project_root)"
   ]
  },
  {
   "cell_type": "markdown",
   "id": "fe0f2a5a-ce92-4f70-86a5-1519b31aa025",
   "metadata": {},
   "source": [
    "-----"
   ]
  },
  {
   "cell_type": "code",
   "execution_count": 32,
   "id": "7bd07de8-7a09-4887-ba04-eaf3548832ad",
   "metadata": {},
   "outputs": [],
   "source": [
    "import pandas as pd\n",
    "from asignacion.base import AsignacionBase\n",
    "from asignacion.nuevosyantiguos import AsignacionNuevosAntiguos\n",
    "from asignacion.antiguos import AsignacionAntiguos\n",
    "from asignacion.nuevos import AsignacionNuevos\n",
    "from asignacion.cerrados import AsignacionCerrados"
   ]
  },
  {
   "cell_type": "code",
   "execution_count": 33,
   "id": "0f4c3abe-5437-48e4-8a5c-b475a24940f9",
   "metadata": {},
   "outputs": [],
   "source": [
    "pd.set_option('display.float_format', '{:,.2f}'.format)"
   ]
  },
  {
   "cell_type": "markdown",
   "id": "d1dd79e4-044e-4644-a746-ef7dc1f7d6f1",
   "metadata": {},
   "source": [
    "## Constantes"
   ]
  },
  {
   "cell_type": "code",
   "execution_count": 34,
   "id": "6e441eb2-a713-42c7-b57b-a9618522d3ca",
   "metadata": {},
   "outputs": [],
   "source": [
    "NOMBRE_ARCHIVO_HABILITADOS = \"Habilitados final 26052025.xlsx\"\n",
    "NOMBRE_ARCHIVO_COMPLEMENTARIO = \"Base final - Oferta Activa.pkl\""
   ]
  },
  {
   "cell_type": "markdown",
   "id": "53ada2db-e31a-483e-9bb9-f59459813663",
   "metadata": {},
   "source": [
    "## Ejecución"
   ]
  },
  {
   "cell_type": "code",
   "execution_count": 35,
   "id": "f36282ed-ca76-4884-9fe0-e782f71f3008",
   "metadata": {},
   "outputs": [],
   "source": [
    "asignacion_base = AsignacionBase()"
   ]
  },
  {
   "cell_type": "code",
   "execution_count": 36,
   "id": "c1e5043a-9de2-46a3-afa1-8268f3ba8d68",
   "metadata": {},
   "outputs": [
    {
     "name": "stdout",
     "output_type": "stream",
     "text": [
      "Los errores quedaron logeados en: ..\\output\\logs\\validacion.log\n"
     ]
    },
    {
     "name": "stderr",
     "output_type": "stream",
     "text": [
      "C:\\Users\\maxal\\Documents\\Atenea\\Asignacion-EFT-OOP\\asignacion\\base.py:134: UserWarning: Existen columnas con espacios adicionales\n",
      "  warnings.warn(\"Existen columnas con espacios adicionales\", category=UserWarning)\n",
      "C:\\Users\\maxal\\Documents\\Atenea\\Asignacion-EFT-OOP\\asignacion\\base.py:158: UserWarning: Existen columnas indispensables con valores nulos\n",
      "  warnings.warn(\"Existen columnas indispensables con valores nulos\", category=UserWarning)\n",
      "C:\\Users\\maxal\\Documents\\Atenea\\Asignacion-EFT-OOP\\asignacion\\base.py:169: UserWarning: Existen columnas indispensables con tipado no adecuado\n",
      "  warnings.warn(\"Existen columnas indispensables con tipado no adecuado\", category=UserWarning)\n"
     ]
    }
   ],
   "source": [
    "asignacion_base.validar_datos(NOMBRE_ARCHIVO_HABILITADOS)"
   ]
  },
  {
   "cell_type": "code",
   "execution_count": 37,
   "id": "2aa2eab8-40d5-43a5-a710-93c4662c4600",
   "metadata": {},
   "outputs": [
    {
     "name": "stdout",
     "output_type": "stream",
     "text": [
      "La llave es: codigo_programa. Ver diccionario para mayor detalle.\n",
      "Programas que cruzaron: 39\n",
      "Programas que NO cruzaron: 6\n"
     ]
    }
   ],
   "source": [
    "rutas = asignacion_base.crear_rutas(NOMBRE_ARCHIVO_HABILITADOS, NOMBRE_ARCHIVO_COMPLEMENTARIO)"
   ]
  },
  {
   "cell_type": "code",
   "execution_count": 38,
   "id": "95654eb7-b993-4a11-8924-35d953873f6e",
   "metadata": {},
   "outputs": [
    {
     "data": {
      "text/plain": [
       "dict_keys(['Antiguos', 'Nuevos', 'Grupos cerrados'])"
      ]
     },
     "execution_count": 38,
     "metadata": {},
     "output_type": "execute_result"
    }
   ],
   "source": [
    "rutas.keys()"
   ]
  },
  {
   "cell_type": "markdown",
   "id": "bebb92d6-9bb4-4caa-9e39-68a230246963",
   "metadata": {},
   "source": [
    "## Ruta Antiguos"
   ]
  },
  {
   "cell_type": "code",
   "execution_count": 39,
   "id": "c5087834-4aba-4afa-829d-41f87b587890",
   "metadata": {},
   "outputs": [],
   "source": [
    "#Obtener los datos de la ruta antigua\n",
    "df_antiguos = rutas['Antiguos']\n",
    "df_nuevos = rutas['Nuevos']\n",
    "df_cerrados = rutas['Grupos cerrados']"
   ]
  },
  {
   "cell_type": "markdown",
   "id": "e02e638f-afce-484b-b5fd-64f7a4f9a7d8",
   "metadata": {},
   "source": [
    "### Calcular recursos por CNO para Antiguos"
   ]
  },
  {
   "cell_type": "code",
   "execution_count": 40,
   "id": "9f2da887-d3a3-413e-b026-512b29cade10",
   "metadata": {},
   "outputs": [],
   "source": [
    "asignacion_nuevos_antiguos = AsignacionNuevosAntiguos(df_antiguos, \"antiguos\")"
   ]
  },
  {
   "cell_type": "code",
   "execution_count": 41,
   "id": "8798f7b9-0fd8-4a01-a766-44e31ce52c5f",
   "metadata": {},
   "outputs": [
    {
     "data": {
      "text/html": [
       "<div>\n",
       "<style scoped>\n",
       "    .dataframe tbody tr th:only-of-type {\n",
       "        vertical-align: middle;\n",
       "    }\n",
       "\n",
       "    .dataframe tbody tr th {\n",
       "        vertical-align: top;\n",
       "    }\n",
       "\n",
       "    .dataframe thead th {\n",
       "        text-align: right;\n",
       "    }\n",
       "</style>\n",
       "<table border=\"1\" class=\"dataframe\">\n",
       "  <thead>\n",
       "    <tr style=\"text-align: right;\">\n",
       "      <th></th>\n",
       "      <th>cod_CNO</th>\n",
       "      <th>ipo_ponderado</th>\n",
       "      <th>cuposxcno</th>\n",
       "      <th>ipo</th>\n",
       "      <th>n_programas</th>\n",
       "      <th>participacion_ipo</th>\n",
       "      <th>recursosxcno</th>\n",
       "    </tr>\n",
       "  </thead>\n",
       "  <tbody>\n",
       "    <tr>\n",
       "      <th>0</th>\n",
       "      <td>1231</td>\n",
       "      <td>96.55</td>\n",
       "      <td>200</td>\n",
       "      <td>0.97</td>\n",
       "      <td>2</td>\n",
       "      <td>0.08</td>\n",
       "      <td>107,569,094.89</td>\n",
       "    </tr>\n",
       "    <tr>\n",
       "      <th>1</th>\n",
       "      <td>1345</td>\n",
       "      <td>99.75</td>\n",
       "      <td>160</td>\n",
       "      <td>1.25</td>\n",
       "      <td>2</td>\n",
       "      <td>0.08</td>\n",
       "      <td>111,126,632.02</td>\n",
       "    </tr>\n",
       "    <tr>\n",
       "      <th>2</th>\n",
       "      <td>2242</td>\n",
       "      <td>40.67</td>\n",
       "      <td>75</td>\n",
       "      <td>0.54</td>\n",
       "      <td>1</td>\n",
       "      <td>0.03</td>\n",
       "      <td>45,308,756.34</td>\n",
       "    </tr>\n",
       "    <tr>\n",
       "      <th>3</th>\n",
       "      <td>2281</td>\n",
       "      <td>55.23</td>\n",
       "      <td>83</td>\n",
       "      <td>0.67</td>\n",
       "      <td>1</td>\n",
       "      <td>0.05</td>\n",
       "      <td>61,535,606.34</td>\n",
       "    </tr>\n",
       "    <tr>\n",
       "      <th>4</th>\n",
       "      <td>3311</td>\n",
       "      <td>47.73</td>\n",
       "      <td>100</td>\n",
       "      <td>0.48</td>\n",
       "      <td>1</td>\n",
       "      <td>0.04</td>\n",
       "      <td>53,180,231.95</td>\n",
       "    </tr>\n",
       "    <tr>\n",
       "      <th>5</th>\n",
       "      <td>3315</td>\n",
       "      <td>95.98</td>\n",
       "      <td>160</td>\n",
       "      <td>1.20</td>\n",
       "      <td>2</td>\n",
       "      <td>0.08</td>\n",
       "      <td>106,929,561.91</td>\n",
       "    </tr>\n",
       "    <tr>\n",
       "      <th>6</th>\n",
       "      <td>4311</td>\n",
       "      <td>143.20</td>\n",
       "      <td>300</td>\n",
       "      <td>1.43</td>\n",
       "      <td>3</td>\n",
       "      <td>0.12</td>\n",
       "      <td>159,534,807.57</td>\n",
       "    </tr>\n",
       "    <tr>\n",
       "      <th>7</th>\n",
       "      <td>5223</td>\n",
       "      <td>15.08</td>\n",
       "      <td>30</td>\n",
       "      <td>0.50</td>\n",
       "      <td>1</td>\n",
       "      <td>0.01</td>\n",
       "      <td>16,803,910.23</td>\n",
       "    </tr>\n",
       "    <tr>\n",
       "      <th>8</th>\n",
       "      <td>6234</td>\n",
       "      <td>32.62</td>\n",
       "      <td>60</td>\n",
       "      <td>0.54</td>\n",
       "      <td>1</td>\n",
       "      <td>0.03</td>\n",
       "      <td>36,345,828.22</td>\n",
       "    </tr>\n",
       "    <tr>\n",
       "      <th>9</th>\n",
       "      <td>6322</td>\n",
       "      <td>158.20</td>\n",
       "      <td>285</td>\n",
       "      <td>1.11</td>\n",
       "      <td>2</td>\n",
       "      <td>0.13</td>\n",
       "      <td>176,245,312.53</td>\n",
       "    </tr>\n",
       "    <tr>\n",
       "      <th>10</th>\n",
       "      <td>6355</td>\n",
       "      <td>194.07</td>\n",
       "      <td>350</td>\n",
       "      <td>2.22</td>\n",
       "      <td>4</td>\n",
       "      <td>0.16</td>\n",
       "      <td>216,212,381.46</td>\n",
       "    </tr>\n",
       "    <tr>\n",
       "      <th>11</th>\n",
       "      <td>8325</td>\n",
       "      <td>205.74</td>\n",
       "      <td>410</td>\n",
       "      <td>2.51</td>\n",
       "      <td>5</td>\n",
       "      <td>0.17</td>\n",
       "      <td>229,207,876.54</td>\n",
       "    </tr>\n",
       "  </tbody>\n",
       "</table>\n",
       "</div>"
      ],
      "text/plain": [
       "    cod_CNO  ipo_ponderado  cuposxcno  ipo  n_programas  participacion_ipo  \\\n",
       "0      1231          96.55        200 0.97            2               0.08   \n",
       "1      1345          99.75        160 1.25            2               0.08   \n",
       "2      2242          40.67         75 0.54            1               0.03   \n",
       "3      2281          55.23         83 0.67            1               0.05   \n",
       "4      3311          47.73        100 0.48            1               0.04   \n",
       "5      3315          95.98        160 1.20            2               0.08   \n",
       "6      4311         143.20        300 1.43            3               0.12   \n",
       "7      5223          15.08         30 0.50            1               0.01   \n",
       "8      6234          32.62         60 0.54            1               0.03   \n",
       "9      6322         158.20        285 1.11            2               0.13   \n",
       "10     6355         194.07        350 2.22            4               0.16   \n",
       "11     8325         205.74        410 2.51            5               0.17   \n",
       "\n",
       "     recursosxcno  \n",
       "0  107,569,094.89  \n",
       "1  111,126,632.02  \n",
       "2   45,308,756.34  \n",
       "3   61,535,606.34  \n",
       "4   53,180,231.95  \n",
       "5  106,929,561.91  \n",
       "6  159,534,807.57  \n",
       "7   16,803,910.23  \n",
       "8   36,345,828.22  \n",
       "9  176,245,312.53  \n",
       "10 216,212,381.46  \n",
       "11 229,207,876.54  "
      ]
     },
     "execution_count": 41,
     "metadata": {},
     "output_type": "execute_result"
    }
   ],
   "source": [
    "asignacion_nuevos_antiguos.recursosxcno"
   ]
  },
  {
   "cell_type": "markdown",
   "id": "b3d92582-b0f9-4c74-9709-a7a85eb0199f",
   "metadata": {},
   "source": [
    "## **Calcular asignación de recursos**"
   ]
  },
  {
   "cell_type": "markdown",
   "id": "b3c03a58-235a-4c58-a7bd-d570b817f90b",
   "metadata": {},
   "source": [
    "### **Antiguos**"
   ]
  },
  {
   "cell_type": "code",
   "execution_count": 42,
   "id": "1b19905b-6f75-47dd-8ccc-fee08e632eb7",
   "metadata": {},
   "outputs": [],
   "source": [
    "asignacion_antiguos = AsignacionAntiguos(df_antiguos)"
   ]
  },
  {
   "cell_type": "code",
   "execution_count": 43,
   "id": "66a8401f-7caf-4399-88ee-9b06186b4418",
   "metadata": {},
   "outputs": [
    {
     "data": {
      "text/html": [
       "<div>\n",
       "<style scoped>\n",
       "    .dataframe tbody tr th:only-of-type {\n",
       "        vertical-align: middle;\n",
       "    }\n",
       "\n",
       "    .dataframe tbody tr th {\n",
       "        vertical-align: top;\n",
       "    }\n",
       "\n",
       "    .dataframe thead th {\n",
       "        text-align: right;\n",
       "    }\n",
       "</style>\n",
       "<table border=\"1\" class=\"dataframe\">\n",
       "  <thead>\n",
       "    <tr style=\"text-align: right;\">\n",
       "      <th></th>\n",
       "      <th>ocupacion</th>\n",
       "      <th>codigo_programa</th>\n",
       "      <th>codigo_programa</th>\n",
       "      <th>cod_CNO</th>\n",
       "      <th>ipo</th>\n",
       "      <th>isoeft_4d</th>\n",
       "      <th>recurso_asignado_2E</th>\n",
       "      <th>recurso_asignado_3E</th>\n",
       "      <th>Total_Recurso_Asignado</th>\n",
       "    </tr>\n",
       "  </thead>\n",
       "  <tbody>\n",
       "    <tr>\n",
       "      <th>0</th>\n",
       "      <td>Técnicos en tecnologías de la información</td>\n",
       "      <td>42561</td>\n",
       "      <td>42561</td>\n",
       "      <td>2281</td>\n",
       "      <td>0.67</td>\n",
       "      <td>0.39</td>\n",
       "      <td>60,389,550.00</td>\n",
       "      <td>37,162,800.00</td>\n",
       "      <td>97,552,350.00</td>\n",
       "    </tr>\n",
       "    <tr>\n",
       "      <th>1</th>\n",
       "      <td>Auxiliares administrativos en salud</td>\n",
       "      <td>43512</td>\n",
       "      <td>43512</td>\n",
       "      <td>1345</td>\n",
       "      <td>0.62</td>\n",
       "      <td>0.61</td>\n",
       "      <td>106,777,551.60</td>\n",
       "      <td>0.00</td>\n",
       "      <td>106,777,551.60</td>\n",
       "    </tr>\n",
       "  </tbody>\n",
       "</table>\n",
       "</div>"
      ],
      "text/plain": [
       "                                   ocupacion  codigo_programa  \\\n",
       "0  Técnicos en tecnologías de la información            42561   \n",
       "1        Auxiliares administrativos en salud            43512   \n",
       "\n",
       "   codigo_programa  cod_CNO  ipo  isoeft_4d  recurso_asignado_2E  \\\n",
       "0            42561     2281 0.67       0.39        60,389,550.00   \n",
       "1            43512     1345 0.62       0.61       106,777,551.60   \n",
       "\n",
       "   recurso_asignado_3E  Total_Recurso_Asignado  \n",
       "0        37,162,800.00           97,552,350.00  \n",
       "1                 0.00          106,777,551.60  "
      ]
     },
     "execution_count": 43,
     "metadata": {},
     "output_type": "execute_result"
    }
   ],
   "source": [
    "columnas = ['ocupacion','codigo_programa','cod_CNO','ipo','isoeft_4d','recurso_asignado_2E','recurso_asignado_3E','Total_Recurso_Asignado']\n",
    "asignacion_antiguos.segunda_asignacion[columnas].head(2)"
   ]
  },
  {
   "cell_type": "code",
   "execution_count": 44,
   "id": "014a33d7-5fb6-4e5b-8841-63a923699603",
   "metadata": {},
   "outputs": [
    {
     "data": {
      "text/html": [
       "<div>\n",
       "<style scoped>\n",
       "    .dataframe tbody tr th:only-of-type {\n",
       "        vertical-align: middle;\n",
       "    }\n",
       "\n",
       "    .dataframe tbody tr th {\n",
       "        vertical-align: top;\n",
       "    }\n",
       "\n",
       "    .dataframe thead th {\n",
       "        text-align: right;\n",
       "    }\n",
       "</style>\n",
       "<table border=\"1\" class=\"dataframe\">\n",
       "  <thead>\n",
       "    <tr style=\"text-align: right;\">\n",
       "      <th></th>\n",
       "      <th>ruta_habilitada</th>\n",
       "      <th>nombre_institucion</th>\n",
       "      <th>ocupacion</th>\n",
       "      <th>nombre_programa</th>\n",
       "      <th>codigo_programa</th>\n",
       "      <th>ipo</th>\n",
       "      <th>Puntaje (nuevos y cerrados)</th>\n",
       "      <th>Meta de vinculación</th>\n",
       "      <th>valor_programa_indexado</th>\n",
       "      <th>numero_cupos_ofertar</th>\n",
       "      <th>...</th>\n",
       "      <th>codigo_programa</th>\n",
       "      <th>ipo_ponderado</th>\n",
       "      <th>recursosxcno</th>\n",
       "      <th>cupos_asignados_2E</th>\n",
       "      <th>recurso_asignado_2E</th>\n",
       "      <th>cupos_asignados_3E</th>\n",
       "      <th>recurso_asignado_3E</th>\n",
       "      <th>Total_Cupos_Asignados</th>\n",
       "      <th>Total_Recurso_Asignado</th>\n",
       "      <th>Saldo_Remanente_3E</th>\n",
       "    </tr>\n",
       "  </thead>\n",
       "  <tbody>\n",
       "    <tr>\n",
       "      <th>0</th>\n",
       "      <td>Antiguos</td>\n",
       "      <td>KUEPA EDUTECH</td>\n",
       "      <td>Técnicos en tecnologías de la información</td>\n",
       "      <td>TÉCNICO LABORAL EN PROCESAMIENTO Y DIGITACIÓN ...</td>\n",
       "      <td>42561</td>\n",
       "      <td>0.67</td>\n",
       "      <td>NaN</td>\n",
       "      <td>NaN</td>\n",
       "      <td>4,645,350.00</td>\n",
       "      <td>83</td>\n",
       "      <td>...</td>\n",
       "      <td>42561</td>\n",
       "      <td>55.23</td>\n",
       "      <td>61,535,606.34</td>\n",
       "      <td>13</td>\n",
       "      <td>60,389,550.00</td>\n",
       "      <td>8</td>\n",
       "      <td>37,162,800.00</td>\n",
       "      <td>21</td>\n",
       "      <td>97,552,350.00</td>\n",
       "      <td>2,198,757.44</td>\n",
       "    </tr>\n",
       "    <tr>\n",
       "      <th>1</th>\n",
       "      <td>Antiguos</td>\n",
       "      <td>FEE ESTUDIO EMPRESARIAL - CHAPINERO</td>\n",
       "      <td>Auxiliares administrativos en salud</td>\n",
       "      <td>TÉCNICO LABORAL EN AUXILIAR ADMINISTRATIVO EN ...</td>\n",
       "      <td>43512</td>\n",
       "      <td>0.62</td>\n",
       "      <td>NaN</td>\n",
       "      <td>NaN</td>\n",
       "      <td>6,281,032.45</td>\n",
       "      <td>80</td>\n",
       "      <td>...</td>\n",
       "      <td>43512</td>\n",
       "      <td>49.87</td>\n",
       "      <td>111,126,632.02</td>\n",
       "      <td>17</td>\n",
       "      <td>106,777,551.60</td>\n",
       "      <td>0</td>\n",
       "      <td>0.00</td>\n",
       "      <td>17</td>\n",
       "      <td>106,777,551.60</td>\n",
       "      <td>2,198,757.44</td>\n",
       "    </tr>\n",
       "  </tbody>\n",
       "</table>\n",
       "<p>2 rows × 28 columns</p>\n",
       "</div>"
      ],
      "text/plain": [
       "  ruta_habilitada                   nombre_institucion  \\\n",
       "0        Antiguos                        KUEPA EDUTECH   \n",
       "1        Antiguos  FEE ESTUDIO EMPRESARIAL - CHAPINERO   \n",
       "\n",
       "                                   ocupacion  \\\n",
       "0  Técnicos en tecnologías de la información   \n",
       "1        Auxiliares administrativos en salud   \n",
       "\n",
       "                                     nombre_programa  codigo_programa  ipo  \\\n",
       "0  TÉCNICO LABORAL EN PROCESAMIENTO Y DIGITACIÓN ...            42561 0.67   \n",
       "1  TÉCNICO LABORAL EN AUXILIAR ADMINISTRATIVO EN ...            43512 0.62   \n",
       "\n",
       "   Puntaje (nuevos y cerrados)  Meta de vinculación  valor_programa_indexado  \\\n",
       "0                          NaN                  NaN             4,645,350.00   \n",
       "1                          NaN                  NaN             6,281,032.45   \n",
       "\n",
       "   numero_cupos_ofertar  ...  codigo_programa  ipo_ponderado   recursosxcno  \\\n",
       "0                    83  ...            42561          55.23  61,535,606.34   \n",
       "1                    80  ...            43512          49.87 111,126,632.02   \n",
       "\n",
       "   cupos_asignados_2E  recurso_asignado_2E  cupos_asignados_3E  \\\n",
       "0                  13        60,389,550.00                   8   \n",
       "1                  17       106,777,551.60                   0   \n",
       "\n",
       "  recurso_asignado_3E  Total_Cupos_Asignados  Total_Recurso_Asignado  \\\n",
       "0       37,162,800.00                     21           97,552,350.00   \n",
       "1                0.00                     17          106,777,551.60   \n",
       "\n",
       "   Saldo_Remanente_3E  \n",
       "0        2,198,757.44  \n",
       "1        2,198,757.44  \n",
       "\n",
       "[2 rows x 28 columns]"
      ]
     },
     "execution_count": 44,
     "metadata": {},
     "output_type": "execute_result"
    }
   ],
   "source": [
    "asignacion_antiguos.programas_remanente.head(2)"
   ]
  },
  {
   "cell_type": "code",
   "execution_count": 45,
   "id": "874e5ae2-60e7-42f3-8f1e-a876633065a9",
   "metadata": {},
   "outputs": [
    {
     "data": {
      "text/plain": [
       "'1,317,801,242.56'"
      ]
     },
     "execution_count": 45,
     "metadata": {},
     "output_type": "execute_result"
    }
   ],
   "source": [
    "format(asignacion_antiguos.recursos_asignados, ',.2f')"
   ]
  },
  {
   "cell_type": "markdown",
   "id": "49fd9d9b-08ba-46bb-a7f4-06bfbe1592f1",
   "metadata": {},
   "source": [
    "------"
   ]
  },
  {
   "cell_type": "markdown",
   "id": "72bbfba5-1950-4c0d-bab2-c8300b0134f4",
   "metadata": {},
   "source": [
    "### **Nuevos**"
   ]
  },
  {
   "cell_type": "code",
   "execution_count": 46,
   "id": "5f406794-3f49-4d7f-9a3f-72b9801ca860",
   "metadata": {},
   "outputs": [],
   "source": [
    "asignacion_nuevos = AsignacionNuevos(df_nuevos)"
   ]
  },
  {
   "cell_type": "code",
   "execution_count": 47,
   "id": "e4275a7a-b2ed-43a4-90a9-cddad70c3f6b",
   "metadata": {},
   "outputs": [
    {
     "data": {
      "text/html": [
       "<div>\n",
       "<style scoped>\n",
       "    .dataframe tbody tr th:only-of-type {\n",
       "        vertical-align: middle;\n",
       "    }\n",
       "\n",
       "    .dataframe tbody tr th {\n",
       "        vertical-align: top;\n",
       "    }\n",
       "\n",
       "    .dataframe thead th {\n",
       "        text-align: right;\n",
       "    }\n",
       "</style>\n",
       "<table border=\"1\" class=\"dataframe\">\n",
       "  <thead>\n",
       "    <tr style=\"text-align: right;\">\n",
       "      <th></th>\n",
       "      <th>ruta_habilitada</th>\n",
       "      <th>nombre_institucion</th>\n",
       "      <th>ocupacion</th>\n",
       "      <th>nombre_programa</th>\n",
       "      <th>codigo_programa</th>\n",
       "      <th>ipo</th>\n",
       "      <th>Puntaje (nuevos y cerrados)</th>\n",
       "      <th>Meta de vinculación</th>\n",
       "      <th>valor_programa_indexado</th>\n",
       "      <th>numero_cupos_ofertar</th>\n",
       "      <th>...</th>\n",
       "      <th>cod_CNO3d</th>\n",
       "      <th>cod_CNO2d</th>\n",
       "      <th>cod_CNO1d</th>\n",
       "      <th>_ocupacion</th>\n",
       "      <th>isoeft_4d</th>\n",
       "      <th>codigo_programa</th>\n",
       "      <th>ipo_ponderado</th>\n",
       "      <th>recursosxcno</th>\n",
       "      <th>cupos_asignados_2E</th>\n",
       "      <th>recurso_asignado_2E</th>\n",
       "    </tr>\n",
       "  </thead>\n",
       "  <tbody>\n",
       "    <tr>\n",
       "      <th>0</th>\n",
       "      <td>Nuevos</td>\n",
       "      <td>UNIVERSIDAD DE LA SABANA</td>\n",
       "      <td>Técnicos en tecnologías de la información</td>\n",
       "      <td>TECNICO LABORAL EN MANEJO DE HERRAMIENTAS PARA...</td>\n",
       "      <td>&lt;NA&gt;</td>\n",
       "      <td>0.67</td>\n",
       "      <td>15.00</td>\n",
       "      <td>0.00</td>\n",
       "      <td>6,529,297.50</td>\n",
       "      <td>50</td>\n",
       "      <td>...</td>\n",
       "      <td>&lt;NA&gt;</td>\n",
       "      <td>&lt;NA&gt;</td>\n",
       "      <td>&lt;NA&gt;</td>\n",
       "      <td>NaN</td>\n",
       "      <td>NaN</td>\n",
       "      <td>&lt;NA&gt;</td>\n",
       "      <td>33.25</td>\n",
       "      <td>589,967,275.83</td>\n",
       "      <td>27</td>\n",
       "      <td>176,291,032.50</td>\n",
       "    </tr>\n",
       "    <tr>\n",
       "      <th>1</th>\n",
       "      <td>Nuevos</td>\n",
       "      <td>UNIVERSIDAD DE LA SALLE</td>\n",
       "      <td>Técnicos en tecnologías de la información</td>\n",
       "      <td>TÉCNICO LABORAL EN SOPORTE Y MANTENIMIENTO DE TI</td>\n",
       "      <td>&lt;NA&gt;</td>\n",
       "      <td>0.67</td>\n",
       "      <td>15.00</td>\n",
       "      <td>0.00</td>\n",
       "      <td>4,664,695.30</td>\n",
       "      <td>25</td>\n",
       "      <td>...</td>\n",
       "      <td>&lt;NA&gt;</td>\n",
       "      <td>&lt;NA&gt;</td>\n",
       "      <td>&lt;NA&gt;</td>\n",
       "      <td>NaN</td>\n",
       "      <td>NaN</td>\n",
       "      <td>&lt;NA&gt;</td>\n",
       "      <td>16.62</td>\n",
       "      <td>589,967,275.83</td>\n",
       "      <td>0</td>\n",
       "      <td>0.00</td>\n",
       "    </tr>\n",
       "  </tbody>\n",
       "</table>\n",
       "<p>2 rows × 23 columns</p>\n",
       "</div>"
      ],
      "text/plain": [
       "  ruta_habilitada        nombre_institucion  \\\n",
       "0          Nuevos  UNIVERSIDAD DE LA SABANA   \n",
       "1          Nuevos   UNIVERSIDAD DE LA SALLE   \n",
       "\n",
       "                                   ocupacion  \\\n",
       "0  Técnicos en tecnologías de la información   \n",
       "1  Técnicos en tecnologías de la información   \n",
       "\n",
       "                                     nombre_programa  codigo_programa  ipo  \\\n",
       "0  TECNICO LABORAL EN MANEJO DE HERRAMIENTAS PARA...             <NA> 0.67   \n",
       "1   TÉCNICO LABORAL EN SOPORTE Y MANTENIMIENTO DE TI             <NA> 0.67   \n",
       "\n",
       "   Puntaje (nuevos y cerrados)  Meta de vinculación  valor_programa_indexado  \\\n",
       "0                        15.00                 0.00             6,529,297.50   \n",
       "1                        15.00                 0.00             4,664,695.30   \n",
       "\n",
       "   numero_cupos_ofertar  ...  cod_CNO3d  cod_CNO2d  cod_CNO1d  _ocupacion  \\\n",
       "0                    50  ...       <NA>       <NA>       <NA>         NaN   \n",
       "1                    25  ...       <NA>       <NA>       <NA>         NaN   \n",
       "\n",
       "   isoeft_4d  codigo_programa ipo_ponderado   recursosxcno  \\\n",
       "0        NaN             <NA>         33.25 589,967,275.83   \n",
       "1        NaN             <NA>         16.62 589,967,275.83   \n",
       "\n",
       "   cupos_asignados_2E  recurso_asignado_2E  \n",
       "0                  27       176,291,032.50  \n",
       "1                   0                 0.00  \n",
       "\n",
       "[2 rows x 23 columns]"
      ]
     },
     "execution_count": 47,
     "metadata": {},
     "output_type": "execute_result"
    }
   ],
   "source": [
    "asignacion_nuevos.programas_remanente.head(2)"
   ]
  },
  {
   "cell_type": "code",
   "execution_count": 48,
   "id": "29650db1-41cf-4459-a827-a9b81a593215",
   "metadata": {},
   "outputs": [
    {
     "data": {
      "text/plain": [
       "'967,490,963.63'"
      ]
     },
     "execution_count": 48,
     "metadata": {},
     "output_type": "execute_result"
    }
   ],
   "source": [
    "format(asignacion_nuevos.recursos_asignados, ',.2f')"
   ]
  },
  {
   "cell_type": "markdown",
   "id": "0a0bc762-602c-4389-b6b7-3aaf3e98a233",
   "metadata": {},
   "source": [
    "-----"
   ]
  },
  {
   "cell_type": "markdown",
   "id": "ee7224d3-b010-407e-bc9a-707cb50f3510",
   "metadata": {},
   "source": [
    "### **Cerrados**"
   ]
  },
  {
   "cell_type": "code",
   "execution_count": 49,
   "id": "225e6e4e-b0d4-4688-b8b4-4436a83368bd",
   "metadata": {},
   "outputs": [],
   "source": [
    "asignacion_cerrados = AsignacionCerrados(df_cerrados)"
   ]
  },
  {
   "cell_type": "code",
   "execution_count": 50,
   "id": "c7e74527-4688-4959-8b46-de39abd60020",
   "metadata": {},
   "outputs": [
    {
     "data": {
      "text/html": [
       "<div>\n",
       "<style scoped>\n",
       "    .dataframe tbody tr th:only-of-type {\n",
       "        vertical-align: middle;\n",
       "    }\n",
       "\n",
       "    .dataframe tbody tr th {\n",
       "        vertical-align: top;\n",
       "    }\n",
       "\n",
       "    .dataframe thead th {\n",
       "        text-align: right;\n",
       "    }\n",
       "</style>\n",
       "<table border=\"1\" class=\"dataframe\">\n",
       "  <thead>\n",
       "    <tr style=\"text-align: right;\">\n",
       "      <th></th>\n",
       "      <th>ruta_habilitada</th>\n",
       "      <th>nombre_institucion</th>\n",
       "      <th>ocupacion</th>\n",
       "      <th>nombre_programa</th>\n",
       "      <th>codigo_programa</th>\n",
       "      <th>ipo</th>\n",
       "      <th>Puntaje (nuevos y cerrados)</th>\n",
       "      <th>Meta de vinculación</th>\n",
       "      <th>valor_programa_indexado</th>\n",
       "      <th>numero_cupos_ofertar</th>\n",
       "      <th>...</th>\n",
       "      <th>cod_CNO</th>\n",
       "      <th>cod_CNO3d</th>\n",
       "      <th>cod_CNO2d</th>\n",
       "      <th>cod_CNO1d</th>\n",
       "      <th>_ocupacion</th>\n",
       "      <th>isoeft_4d</th>\n",
       "      <th>codigo_programa</th>\n",
       "      <th>cupos_asignados_2E</th>\n",
       "      <th>recurso_asignado_2E</th>\n",
       "      <th>saldo_total_remanente</th>\n",
       "    </tr>\n",
       "  </thead>\n",
       "  <tbody>\n",
       "    <tr>\n",
       "      <th>0</th>\n",
       "      <td>Grupos cerrados</td>\n",
       "      <td>CESDE BOGOTÁ</td>\n",
       "      <td>Auxiliares administrativos</td>\n",
       "      <td>TÉCNICO LABORAL COMO AUXILIAR ADMINISTRATIVO</td>\n",
       "      <td>54890</td>\n",
       "      <td>0.46</td>\n",
       "      <td>56.75</td>\n",
       "      <td>0.60</td>\n",
       "      <td>6,018,610.43</td>\n",
       "      <td>90</td>\n",
       "      <td>...</td>\n",
       "      <td>1341</td>\n",
       "      <td>134</td>\n",
       "      <td>13</td>\n",
       "      <td>1</td>\n",
       "      <td>Auxiliares administrativos</td>\n",
       "      <td>0.63</td>\n",
       "      <td>54890</td>\n",
       "      <td>79</td>\n",
       "      <td>475,470,224.10</td>\n",
       "      <td>3,541,275.90</td>\n",
       "    </tr>\n",
       "    <tr>\n",
       "      <th>1</th>\n",
       "      <td>Grupos cerrados</td>\n",
       "      <td>MEDISED INSTITUCION DE EDUCACION PARA EL TRABA...</td>\n",
       "      <td>Auxiliares administrativos</td>\n",
       "      <td>TÉCNICO LABORAL EN AUXILIAR ADMINISTRATIVO</td>\n",
       "      <td>17507</td>\n",
       "      <td>0.46</td>\n",
       "      <td>32.38</td>\n",
       "      <td>0.00</td>\n",
       "      <td>6,604,882.51</td>\n",
       "      <td>100</td>\n",
       "      <td>...</td>\n",
       "      <td>1341</td>\n",
       "      <td>134</td>\n",
       "      <td>13</td>\n",
       "      <td>1</td>\n",
       "      <td>Auxiliares administrativos</td>\n",
       "      <td>0.70</td>\n",
       "      <td>17507</td>\n",
       "      <td>0</td>\n",
       "      <td>0.00</td>\n",
       "      <td>3,541,275.90</td>\n",
       "    </tr>\n",
       "  </tbody>\n",
       "</table>\n",
       "<p>2 rows × 22 columns</p>\n",
       "</div>"
      ],
      "text/plain": [
       "   ruta_habilitada                                 nombre_institucion  \\\n",
       "0  Grupos cerrados                                       CESDE BOGOTÁ   \n",
       "1  Grupos cerrados  MEDISED INSTITUCION DE EDUCACION PARA EL TRABA...   \n",
       "\n",
       "                    ocupacion                               nombre_programa  \\\n",
       "0  Auxiliares administrativos  TÉCNICO LABORAL COMO AUXILIAR ADMINISTRATIVO   \n",
       "1  Auxiliares administrativos   TÉCNICO LABORAL EN AUXILIAR ADMINISTRATIVO    \n",
       "\n",
       "  codigo_programa  ipo  Puntaje (nuevos y cerrados)  Meta de vinculación  \\\n",
       "0           54890 0.46                        56.75                 0.60   \n",
       "1           17507 0.46                        32.38                 0.00   \n",
       "\n",
       "   valor_programa_indexado  numero_cupos_ofertar  ...  cod_CNO  cod_CNO3d  \\\n",
       "0             6,018,610.43                    90  ...     1341        134   \n",
       "1             6,604,882.51                   100  ...     1341        134   \n",
       "\n",
       "   cod_CNO2d  cod_CNO1d                  _ocupacion  isoeft_4d  \\\n",
       "0         13          1  Auxiliares administrativos       0.63   \n",
       "1         13          1  Auxiliares administrativos       0.70   \n",
       "\n",
       "  codigo_programa  cupos_asignados_2E  recurso_asignado_2E  \\\n",
       "0           54890                  79       475,470,224.10   \n",
       "1           17507                   0                 0.00   \n",
       "\n",
       "   saldo_total_remanente  \n",
       "0           3,541,275.90  \n",
       "1           3,541,275.90  \n",
       "\n",
       "[2 rows x 22 columns]"
      ]
     },
     "execution_count": 50,
     "metadata": {},
     "output_type": "execute_result"
    }
   ],
   "source": [
    "asignacion_cerrados.programas_remanente.head(2)"
   ]
  },
  {
   "cell_type": "markdown",
   "id": "a29aeb69-6e19-41f5-87ac-a3cfb949d6f4",
   "metadata": {},
   "source": [
    "----"
   ]
  },
  {
   "cell_type": "markdown",
   "id": "2a6358d6-8ef2-42ef-8487-197fe6edb273",
   "metadata": {},
   "source": [
    "### **Actualizar bolsa comun**"
   ]
  },
  {
   "cell_type": "code",
   "execution_count": 51,
   "id": "2b13c7df-b3e3-41c3-ba2b-ed41b62acc46",
   "metadata": {},
   "outputs": [],
   "source": [
    "asignacion = AsignacionBase()"
   ]
  },
  {
   "cell_type": "code",
   "execution_count": 52,
   "id": "d635b0d4-a2ac-4dc6-954c-7a9dff4102d3",
   "metadata": {},
   "outputs": [],
   "source": [
    "recursos_antiguos = asignacion_antiguos.recursos_disponibles\n",
    "recursos_nuevos = asignacion_nuevos.recursos_disponibles\n",
    "recursos_cerrados = asignacion_cerrados.recursos_disponibles\n",
    "\n",
    "asignacion._actualizar_bolsa_comun(recursos_antiguos,recursos_nuevos,recursos_cerrados)"
   ]
  },
  {
   "cell_type": "code",
   "execution_count": 53,
   "id": "cc71c568-ad96-4d93-a754-4593e3581a3d",
   "metadata": {},
   "outputs": [],
   "source": [
    "bolsa_comun = asignacion.bolsa_comun_disponible"
   ]
  },
  {
   "cell_type": "markdown",
   "id": "c5ae16bb-69a3-4d8c-b7ac-3d01e5c9c343",
   "metadata": {},
   "source": [
    "-----"
   ]
  },
  {
   "cell_type": "markdown",
   "id": "b1d6fa80-9a56-4209-a56f-55530198a78b",
   "metadata": {},
   "source": [
    "### **Asignación de los recursos remanentes**"
   ]
  },
  {
   "cell_type": "markdown",
   "id": "a798032d-7ffa-403f-b053-73d094b6ee6a",
   "metadata": {},
   "source": [
    "**Orden**\n",
    "1. Cerrados\n",
    "2. Nuevos\n",
    "3. Antiguos"
   ]
  },
  {
   "cell_type": "code",
   "execution_count": 54,
   "id": "1fa78189-457b-44ee-b339-84f9c5199335",
   "metadata": {},
   "outputs": [],
   "source": [
    "df_cerrados_remanente = asignacion_cerrados.asignar_remanente(bolsa_comun)\n",
    "bolsa_comun = asignacion_cerrados.bolsa_comun_disponible\n",
    "df_nuevos_remanente = asignacion_nuevos.asignar_remanente(bolsa_comun)\n",
    "bolsa_comun = asignacion_nuevos.bolsa_comun_disponible\n",
    "df_antiguos_remanente = asignacion_antiguos.asignar_remanente(bolsa_comun)"
   ]
  },
  {
   "cell_type": "code",
   "execution_count": 55,
   "id": "2a61f3a1-5376-4251-a622-adebd82a3809",
   "metadata": {},
   "outputs": [
    {
     "name": "stdout",
     "output_type": "stream",
     "text": [
      "28,249,069.72\n",
      "4,174,627.99\n",
      "4,174,627.99\n",
      "762,727.84\n"
     ]
    }
   ],
   "source": [
    "print(format(asignacion.bolsa_comun_disponible, ',.2f'))\n",
    "print(format(asignacion_cerrados.bolsa_comun_disponible, ',.2f'))\n",
    "print(format(asignacion_nuevos.bolsa_comun_disponible, ',.2f'))\n",
    "print(format(asignacion_antiguos.bolsa_comun_disponible, ',.2f'))"
   ]
  },
  {
   "cell_type": "code",
   "execution_count": 57,
   "id": "95127eef-36eb-4dc7-9dbe-f2d087f7ca5c",
   "metadata": {},
   "outputs": [
    {
     "data": {
      "text/plain": [
       "Index(['ruta_habilitada', 'nombre_institucion', 'ocupacion', 'nombre_programa',\n",
       "       'codigo_programa', 'ipo', 'Puntaje (nuevos y cerrados)',\n",
       "       'Meta de vinculación', 'valor_programa_indexado',\n",
       "       'numero_cupos_ofertar', 'duracion_horas_programa',\n",
       "       'numero_maximo_cupos', 'cod_CNO', 'cod_CNO3d', 'cod_CNO2d', 'cod_CNO1d',\n",
       "       '_ocupacion', 'isoeft_4d', 'codigo_programa', 'cupos_asignados_2E',\n",
       "       'recurso_asignado_2E', 'saldo_total_remanente'],\n",
       "      dtype='object')"
      ]
     },
     "execution_count": 57,
     "metadata": {},
     "output_type": "execute_result"
    }
   ],
   "source": [
    "asignacion_cerrados.programas_remanente['saldo_total_remanente']columns"
   ]
  },
  {
   "cell_type": "code",
   "execution_count": null,
   "id": "cfd4c5e1-e4a6-4a05-b567-8a5a88fe13a1",
   "metadata": {},
   "outputs": [],
   "source": []
  }
 ],
 "metadata": {
  "kernelspec": {
   "display_name": "Python 3 (ipykernel)",
   "language": "python",
   "name": "python3"
  },
  "language_info": {
   "codemirror_mode": {
    "name": "ipython",
    "version": 3
   },
   "file_extension": ".py",
   "mimetype": "text/x-python",
   "name": "python",
   "nbconvert_exporter": "python",
   "pygments_lexer": "ipython3",
   "version": "3.12.10"
  }
 },
 "nbformat": 4,
 "nbformat_minor": 5
}
